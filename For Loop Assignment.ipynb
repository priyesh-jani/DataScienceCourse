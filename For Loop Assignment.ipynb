{
 "cells": [
  {
   "cell_type": "code",
   "execution_count": 2,
   "id": "cfd27bf9-2876-491b-8c26-22ddad31ebbe",
   "metadata": {},
   "outputs": [
    {
     "name": "stdout",
     "output_type": "stream",
     "text": [
      "1\n",
      "2\n",
      "3\n",
      "4\n",
      "5\n",
      "6\n",
      "7\n",
      "8\n",
      "9\n",
      "10\n"
     ]
    }
   ],
   "source": [
    "##Q1. Write a Python program to print the numbers from 1 to 10 using a `for` loop.\n",
    "\n",
    "for i in range(1,11,1):\n",
    "    print(i)"
   ]
  },
  {
   "cell_type": "code",
   "execution_count": 24,
   "id": "5f94502d-6b4d-4ff6-9b50-6f7ab104d28d",
   "metadata": {},
   "outputs": [
    {
     "name": "stdout",
     "output_type": "stream",
     "text": [
      "55\n"
     ]
    }
   ],
   "source": [
    "##Create a program that calculates the sum of all numbers in a list using a `for` loop.\n",
    "\n",
    "A = list(range(1,11,1))\n",
    "x = 0\n",
    "\n",
    "for i in A:\n",
    "    x = x + i\n",
    "print(x)"
   ]
  },
  {
   "cell_type": "code",
   "execution_count": 33,
   "id": "ae175b61-58b8-44e7-b175-eecc2f52f1c7",
   "metadata": {},
   "outputs": [
    {
     "name": "stdin",
     "output_type": "stream",
     "text": [
      "enter your name box\n"
     ]
    },
    {
     "name": "stdout",
     "output_type": "stream",
     "text": [
      "x\n",
      "o\n",
      "b\n"
     ]
    }
   ],
   "source": [
    "##Write a program to print the characters of a string in reverse order using a `for` loop.\n",
    "\n",
    "name = input('enter your name')\n",
    "reverse = name[::-1]\n",
    "\n",
    "for i in reverse:\n",
    "    print(i)"
   ]
  },
  {
   "cell_type": "code",
   "execution_count": 41,
   "id": "aa95b0c6-e9c6-4689-af6f-98f7c9f1a9b6",
   "metadata": {},
   "outputs": [
    {
     "name": "stdin",
     "output_type": "stream",
     "text": [
      "Enter a Number 5\n"
     ]
    },
    {
     "name": "stdout",
     "output_type": "stream",
     "text": [
      "120\n"
     ]
    }
   ],
   "source": [
    "##Develop a program that finds the factorial of a given number using a `for` loop.\n",
    "\n",
    "number = int(input(\"Enter a Number\"))\n",
    "x = 1\n",
    "\n",
    "for i in list(range(1,number+1,1)):\n",
    "    x = x * i\n",
    "print(x)"
   ]
  },
  {
   "cell_type": "code",
   "execution_count": 54,
   "id": "a53a14e1-6c06-4a89-bc66-048cfd1ac6a1",
   "metadata": {},
   "outputs": [
    {
     "name": "stdin",
     "output_type": "stream",
     "text": [
      "Enter a Number 15\n"
     ]
    },
    {
     "name": "stdout",
     "output_type": "stream",
     "text": [
      "15 * 1 = 15\n",
      "15 * 2 = 30\n",
      "15 * 3 = 45\n",
      "15 * 4 = 60\n",
      "15 * 5 = 75\n",
      "15 * 6 = 90\n",
      "15 * 7 = 105\n",
      "15 * 8 = 120\n",
      "15 * 9 = 135\n",
      "15 * 10 = 150\n"
     ]
    }
   ],
   "source": [
    "##Create a program to print the multiplication table of a given number using a `for` loop.\n",
    "\n",
    "number = int(input(\"Enter a Number\"))\n",
    "\n",
    "for i in list(range(1,11,1)):\n",
    "    print(f\"{number} {'*'} {i} {'='} {number * i}\")"
   ]
  },
  {
   "cell_type": "code",
   "execution_count": 64,
   "id": "bc46cf1c-07f3-4c2e-ba91-01f57145ec78",
   "metadata": {},
   "outputs": [
    {
     "name": "stdout",
     "output_type": "stream",
     "text": [
      "Count of Even Numbers = 4\n",
      "Count of Odd Numbers = 5\n"
     ]
    }
   ],
   "source": [
    "##Write a program that counts the number of even and odd numbers in a list using a `for` loop.\n",
    "\n",
    "listA = list(range(1,10,1))\n",
    "even_count = 0\n",
    "odd_count = 0\n",
    "\n",
    "for i in listA:\n",
    "    if i%2 == 0:\n",
    "        even_count = even_count + 1\n",
    "    elif i%2 != 0:\n",
    "        odd_count = odd_count + 1\n",
    "print(f\"{'Count of Even Numbers'} {'='} {even_count}\")\n",
    "print(f\"{'Count of Odd Numbers'} {'='} {odd_count}\")\n"
   ]
  },
  {
   "cell_type": "code",
   "execution_count": 74,
   "id": "636ab980-d3dc-4213-a7f1-e09319214d2d",
   "metadata": {},
   "outputs": [
    {
     "name": "stdin",
     "output_type": "stream",
     "text": [
      "Enter a Number 5\n"
     ]
    },
    {
     "name": "stdout",
     "output_type": "stream",
     "text": [
      "25\n"
     ]
    }
   ],
   "source": [
    "##Develop a program that prints the squares of numbers from 1 to 5 using a `for` loop.\n",
    "\n",
    "number = (input(\"Enter a Number\"))\n",
    "\n",
    "for i in range(len(number)):\n",
    "    x = int(number) * int(number)\n",
    "print(x)"
   ]
  },
  {
   "cell_type": "code",
   "execution_count": 76,
   "id": "4283d4e8-c455-4b19-a48f-cc154885892d",
   "metadata": {},
   "outputs": [
    {
     "name": "stdin",
     "output_type": "stream",
     "text": [
      "tell us your name: Priyesh\n"
     ]
    },
    {
     "name": "stdout",
     "output_type": "stream",
     "text": [
      "7\n"
     ]
    }
   ],
   "source": [
    "## Create a program to find the length of a string without using the `len()` function.\n",
    "\n",
    "name = input('tell us your name:')\n",
    "count = 0\n",
    "\n",
    "for i in list(name):\n",
    "    count = count + 1\n",
    "print(count)"
   ]
  },
  {
   "cell_type": "code",
   "execution_count": 79,
   "id": "5bd16b4c-65a2-4f50-af28-6004a606a3ce",
   "metadata": {},
   "outputs": [
    {
     "name": "stdout",
     "output_type": "stream",
     "text": [
      "5.5\n"
     ]
    }
   ],
   "source": [
    "##Write a program that calculates the average of a list of numbers using a `for` loop.\n",
    "\n",
    "listA = list(range(1,11,1))\n",
    "count = 0\n",
    "sum = 0\n",
    "\n",
    "for i in listA:\n",
    "    count = count + 1\n",
    "    sum = sum + i\n",
    "average = sum / count\n",
    "print(average)\n",
    "    "
   ]
  },
  {
   "cell_type": "code",
   "execution_count": 84,
   "id": "a72885d7-edb4-44bf-a3c9-d5c40cb82a27",
   "metadata": {},
   "outputs": [
    {
     "name": "stdin",
     "output_type": "stream",
     "text": [
      "How long Fibonacci series you need: 5\n"
     ]
    },
    {
     "name": "stdout",
     "output_type": "stream",
     "text": [
      "0 1 1 2 3 "
     ]
    }
   ],
   "source": [
    "## Develop a program that prints the first `n` Fibonacci numbers using a `for` loop.\n",
    "\n",
    "length = int(input('How long Fibonacci series you need:'))\n",
    "n1, n2 = 0,1\n",
    "n3 = 0\n",
    "\n",
    "print(f\"{n1} {n2}\", end=' ')\n",
    "\n",
    "for i in range(0,length - 2):\n",
    "    n3 = n1 + n2\n",
    "    print(f\"{n3}\", end=' ')\n",
    "    n1 = n2\n",
    "    n2 = n3\n",
    "    "
   ]
  },
  {
   "cell_type": "code",
   "execution_count": 98,
   "id": "4600fa3d-8ac0-434b-973d-535e607b852a",
   "metadata": {},
   "outputs": [
    {
     "name": "stdout",
     "output_type": "stream",
     "text": [
      "[1, 2, 5, 9]\n"
     ]
    }
   ],
   "source": [
    "##Write a program to check if a given list contains any duplicates using a `for` loop.\n",
    "\n",
    "lis = [1, 2, 1, 2, 3, 4, 5, 1, 1, 2, 5, 6, 7, 8, 9, 9]\n",
    "\n",
    "A = []\n",
    "B = []\n",
    "\n",
    "for i in lis:\n",
    "    if i not in A:\n",
    "        A.append(i)\n",
    "    elif i not in B:\n",
    "        B.append(i)\n",
    "\n",
    "print(B)\n",
    "    \n",
    "    \n",
    "    "
   ]
  },
  {
   "cell_type": "code",
   "execution_count": 12,
   "id": "b6ca316b-6988-4c6d-81e2-3255254b031e",
   "metadata": {},
   "outputs": [
    {
     "name": "stdin",
     "output_type": "stream",
     "text": [
      "Enter the upper limit to find prime numbers:  10\n"
     ]
    },
    {
     "name": "stdout",
     "output_type": "stream",
     "text": [
      "Prime numbers up to 10: 2 3 5 7 "
     ]
    }
   ],
   "source": [
    "##Create a program that prints the prime numbers in a given range using a `for` loop.\n",
    "\n",
    "n = int(input('Enter the upper limit to find prime numbers: '))\n",
    "\n",
    "print(f\"Prime numbers up to {n}:\", end= ' ')\n",
    "\n",
    "for num in range(2, n + 1):\n",
    "    is_prime = True\n",
    "    for i in range(2, int(num**0.5) + 1):\n",
    "        if num % i == 0:\n",
    "            is_prime = False\n",
    "            break\n",
    "    if is_prime:\n",
    "        print(num, end=' ')"
   ]
  },
  {
   "cell_type": "code",
   "execution_count": 18,
   "id": "8971907b-2c88-4523-ad1b-8f770661ec3c",
   "metadata": {},
   "outputs": [
    {
     "name": "stdin",
     "output_type": "stream",
     "text": [
      "Enter a word:  pooja\n"
     ]
    },
    {
     "name": "stdout",
     "output_type": "stream",
     "text": [
      "3\n"
     ]
    }
   ],
   "source": [
    "##Develop a program that counts the number of vowels in a string using a `for` loop.\n",
    "\n",
    "vowel = ['a', 'e', 'i', 'o', 'u']\n",
    "\n",
    "word = input('Enter a word: ')\n",
    "count = 0\n",
    "\n",
    "for i in word:\n",
    "    for j in vowel:\n",
    "        if i == j:\n",
    "            count += 1\n",
    "print(count)\n",
    "        "
   ]
  },
  {
   "cell_type": "code",
   "execution_count": 37,
   "id": "f2654327-09d6-4712-bff6-c127376ca682",
   "metadata": {},
   "outputs": [
    {
     "name": "stdout",
     "output_type": "stream",
     "text": [
      "300\n"
     ]
    }
   ],
   "source": [
    "## Write a program to find the maximum element in a 2D list using a nested `for` loop.\n",
    "\n",
    "list2D = [[1,2,10,14,20],[200,300,4,5]]\n",
    "\n",
    "max_value = float('-inf')\n",
    "\n",
    "for row in list2D:\n",
    "    for column in row:\n",
    "        if column > max_value:\n",
    "            max_value = column\n",
    "print(max_value)"
   ]
  },
  {
   "cell_type": "code",
   "execution_count": 50,
   "id": "f671c082-f4c1-49a3-9278-f7b1c4375764",
   "metadata": {},
   "outputs": [
    {
     "name": "stdout",
     "output_type": "stream",
     "text": [
      "['p', '2', '1', '5', '8', 'a']\n"
     ]
    },
    {
     "name": "stdin",
     "output_type": "stream",
     "text": [
      "Tell a word or a number that you want to remove  2\n"
     ]
    },
    {
     "name": "stdout",
     "output_type": "stream",
     "text": [
      "['p', '1', '5', '8', 'a']\n"
     ]
    }
   ],
   "source": [
    "## Create a program that removes all occurrences of a specific element from a list using a `for` loop.\n",
    "\n",
    "listA = ['p','2','1','5','8','a']\n",
    "\n",
    "print(listA)\n",
    "\n",
    "n = input('Tell a word or a number that you want to remove ')\n",
    "\n",
    "listB = []\n",
    "\n",
    "for i in listA:\n",
    "    if i != n:\n",
    "        listB.append(i)\n",
    "        \n",
    "print(listB)\n"
   ]
  },
  {
   "cell_type": "code",
   "execution_count": 57,
   "id": "965fd68a-4cd2-40cc-9c30-4572de0f83bd",
   "metadata": {},
   "outputs": [
    {
     "name": "stdout",
     "output_type": "stream",
     "text": [
      "1 * 1 = 1 1 * 1 = 2 1 * 1 = 3 1 * 1 = 4 1 * 1 = 5 1 * 1 = 6 1 * 1 = 7 1 * 1 = 8 1 * 1 = 9 1 * 1 = 10 \n",
      "2 * 2 = 2 2 * 2 = 4 2 * 2 = 6 2 * 2 = 8 2 * 2 = 10 2 * 2 = 12 2 * 2 = 14 2 * 2 = 16 2 * 2 = 18 2 * 2 = 20 \n",
      "3 * 3 = 3 3 * 3 = 6 3 * 3 = 9 3 * 3 = 12 3 * 3 = 15 3 * 3 = 18 3 * 3 = 21 3 * 3 = 24 3 * 3 = 27 3 * 3 = 30 \n",
      "4 * 4 = 4 4 * 4 = 8 4 * 4 = 12 4 * 4 = 16 4 * 4 = 20 4 * 4 = 24 4 * 4 = 28 4 * 4 = 32 4 * 4 = 36 4 * 4 = 40 \n",
      "5 * 5 = 5 5 * 5 = 10 5 * 5 = 15 5 * 5 = 20 5 * 5 = 25 5 * 5 = 30 5 * 5 = 35 5 * 5 = 40 5 * 5 = 45 5 * 5 = 50 \n"
     ]
    }
   ],
   "source": [
    "##Develop a program that generates a multiplication table for numbers from 1 to 5 using a nested `for` loop.\n",
    "\n",
    "for i in list(range(1,6,1)):\n",
    "    for j in list(range(1,11,1)):\n",
    "        print(f\"{i} {'*'} {i} {'='} {i * j}\",end= ' ')\n",
    "    print()"
   ]
  },
  {
   "cell_type": "code",
   "execution_count": 60,
   "id": "a44675e1-e026-4af1-a833-e5e34a90f08f",
   "metadata": {},
   "outputs": [
    {
     "name": "stdout",
     "output_type": "stream",
     "text": [
      "[37.8, -1.1, 10.0, 4.4, 21.1]\n"
     ]
    }
   ],
   "source": [
    "##Write a program that converts a list of Fahrenheit temperatures to Celsius using a `for` loop.\n",
    "\n",
    "F = [100,30,50,40,70]\n",
    "\n",
    "C = []\n",
    "\n",
    "for i in F:\n",
    "    n = ((i - 32) * (5/9))\n",
    "    n_formatted = format(n, \".1f\")\n",
    "    C.append(float(n_formatted))\n",
    "\n",
    "print(C)"
   ]
  },
  {
   "cell_type": "code",
   "execution_count": 61,
   "id": "f3306bf5-45e4-4f57-b14d-ede737283533",
   "metadata": {},
   "outputs": [
    {
     "name": "stdout",
     "output_type": "stream",
     "text": [
      "5\n",
      "11\n"
     ]
    }
   ],
   "source": [
    "##Create a program to print the common elements from two lists using a `for` loop.\n",
    "\n",
    "A = [1,2,4,5,10,11,12]\n",
    "B = [5,8,7,11,15,18,20]\n",
    "\n",
    "for i in A:\n",
    "    for j in B:\n",
    "        if i == j:\n",
    "            print(i)"
   ]
  },
  {
   "cell_type": "code",
   "execution_count": 73,
   "id": "c3800d80-570b-4af5-9e0c-cc160455dafe",
   "metadata": {},
   "outputs": [
    {
     "name": "stdin",
     "output_type": "stream",
     "text": [
      "Number of lines you like in a triangle:  10\n"
     ]
    },
    {
     "name": "stdout",
     "output_type": "stream",
     "text": [
      "* \n",
      "* * \n",
      "* * * \n",
      "* * * * \n",
      "* * * * * \n",
      "* * * * * * \n",
      "* * * * * * * \n",
      "* * * * * * * * \n",
      "* * * * * * * * * \n",
      "* * * * * * * * * * \n"
     ]
    }
   ],
   "source": [
    "##Develop a program that prints the pattern of right-angled triangles using a `for` loop. Use ‘*’ to draw the pattern\n",
    "\n",
    "n = int(input(\"Number of lines you like in a triangle: \"))\n",
    "        \n",
    "for i in range(n):\n",
    "    for j in range(i+1):\n",
    "        print('*', end = ' ')\n",
    "    print()\n",
    "        "
   ]
  },
  {
   "cell_type": "code",
   "execution_count": 2,
   "id": "005e69bb-c66d-40c9-94dc-049b16095b51",
   "metadata": {},
   "outputs": [
    {
     "name": "stdin",
     "output_type": "stream",
     "text": [
      "Enter your first number:  15\n",
      "Enter your second number:  10\n"
     ]
    },
    {
     "name": "stdout",
     "output_type": "stream",
     "text": [
      "The GCD of 10 and 15 is: 5\n"
     ]
    }
   ],
   "source": [
    "##Write a program to find the greatest common divisor (GCD) of two numbers using a `for` loop.\n",
    "\n",
    "num1 = int(input(\"Enter your first number: \"))\n",
    "num2 = int(input(\"Enter your second number: \"))\n",
    "\n",
    "if num1 > num2:\n",
    "    num1, num2 = num2, num1\n",
    "    \n",
    "gcd_value = 1\n",
    "\n",
    "for i in range(1,num2+1):\n",
    "    if num1 % i == 0 and num2 % i == 0:\n",
    "        gcd_value = i\n",
    "        \n",
    "print(f\"The GCD of {num1} and {num2} is: {gcd_value}\")"
   ]
  },
  {
   "cell_type": "code",
   "execution_count": 3,
   "id": "75a889dd-5c18-435c-b235-34e24ef72ea9",
   "metadata": {},
   "outputs": [
    {
     "name": "stdout",
     "output_type": "stream",
     "text": [
      "Original Numbers: [435, 125, 645, 108]\n",
      "Sum of Digits [12, 8, 15, 9]\n"
     ]
    }
   ],
   "source": [
    "##Create a program that calculates the sum of the digits of numbers in a list using a list comprehension.\n",
    "\n",
    "A = [435, 125, 645, 108]\n",
    "\n",
    "sum_of_digits = [sum(int(digit) for digit in str(num)) for num in A]\n",
    "\n",
    "print('Original Numbers:',A)\n",
    "print('Sum of Digits', sum_of_digits)"
   ]
  },
  {
   "cell_type": "code",
   "execution_count": 5,
   "id": "287d312c-ab48-47fb-9331-98b44d191ea2",
   "metadata": {},
   "outputs": [
    {
     "name": "stdin",
     "output_type": "stream",
     "text": [
      "Enter a Number:  15\n"
     ]
    },
    {
     "name": "stdout",
     "output_type": "stream",
     "text": [
      "The prime factors of 15 are: [3, 5]\n"
     ]
    }
   ],
   "source": [
    "##Write a program to find the prime factors of a given number using a `for` loop and list comprehension.\n",
    "\n",
    "A = int(input(\"Enter a Number: \"))\n",
    "\n",
    "prime_factors = [i for i in range(2, A + 1) if A % i == 0 and all(i % j != 0 for j in range(2, int(i**0.5) + 1))]\n",
    "\n",
    "print(f\"The prime factors of {A} are:\", prime_factors)"
   ]
  },
  {
   "cell_type": "code",
   "execution_count": 7,
   "id": "a8dd2540-c51f-49e0-a79a-7aaee7969ab8",
   "metadata": {},
   "outputs": [
    {
     "name": "stdout",
     "output_type": "stream",
     "text": [
      "Original list: [1, 2, 4, 5, 5, 6, 2, 9, 10, 11, 12, 13]\n",
      "Unique list: [1, 2, 4, 5, 6, 9, 10, 11, 12, 13]\n"
     ]
    }
   ],
   "source": [
    "##Develop a program that extracts unique elements from a list and stores them in a new list using a list comprehension.\n",
    "\n",
    "A = [1,2,4,5,5,6,2,9,10,11,12,13]\n",
    "\n",
    "B = list({i for i in A})\n",
    "\n",
    "print(f\"Original list: {A}\")\n",
    "print(f\"Unique list: {B}\")"
   ]
  },
  {
   "cell_type": "code",
   "execution_count": 8,
   "id": "02d765e3-3bd5-4fb9-9976-f84328855876",
   "metadata": {},
   "outputs": [
    {
     "name": "stdin",
     "output_type": "stream",
     "text": [
      "Enter the upper limit for palindromic numbers:  100\n"
     ]
    },
    {
     "name": "stdout",
     "output_type": "stream",
     "text": [
      "Palindromic numbers up to 100:\n",
      "[1, 2, 3, 4, 5, 6, 7, 8, 9, 11, 22, 33, 44, 55, 66, 77, 88, 99]\n"
     ]
    }
   ],
   "source": [
    "##Create a program that generates a list of all palindromic numbers up to a specified limit using a list comprehension.\n",
    "\n",
    "limit = int(input(\"Enter the upper limit for palindromic numbers: \"))\n",
    "\n",
    "palindromic_numbers = [num for num in range(1, limit + 1) if str(num) == str(num)[::-1]]\n",
    "\n",
    "print(f\"Palindromic numbers up to {limit}:\")\n",
    "print(palindromic_numbers)"
   ]
  },
  {
   "cell_type": "code",
   "execution_count": 13,
   "id": "e8b1c94a-5c20-4d2a-8f77-061d2b476d12",
   "metadata": {},
   "outputs": [
    {
     "name": "stdout",
     "output_type": "stream",
     "text": [
      "Nested list: [[1, 2, 10, 14, 20], [200, 300, 4, 5]]\n",
      "Flattened list: [1, 2, 10, 14, 20, 200, 300, 4, 5]\n"
     ]
    }
   ],
   "source": [
    "##Write a program to flatten a nested list using list comprehension.\n",
    "\n",
    "list2D = [[1,2,10,14,20],[200,300,4,5]]\n",
    "\n",
    "A = [item for sublist in list2D for item in (sublist if isinstance(sublist, list) else [sublist])]\n",
    "\n",
    "print(f\"Nested list: {list2D}\")\n",
    "print(f\"Flattened list: {A}\")"
   ]
  },
  {
   "cell_type": "code",
   "execution_count": 19,
   "id": "955a4437-258d-46ca-ad68-f92cd0bbb615",
   "metadata": {},
   "outputs": [
    {
     "name": "stdout",
     "output_type": "stream",
     "text": [
      "[30, 25]\n"
     ]
    }
   ],
   "source": [
    "##Develop a program that computes the sum of even and odd numbers in a list separately using list comprehension.\n",
    "\n",
    "A = [1,2,3,4,5,6,7,8,9,10]\n",
    "\n",
    "B = [sum(i for i in A if i%2 ==0), sum(j for j in A if j%2 != 0)]\n",
    "\n",
    "print(B)"
   ]
  },
  {
   "cell_type": "code",
   "execution_count": 21,
   "id": "ed989c02-876a-42f4-a152-a8e44af838dd",
   "metadata": {},
   "outputs": [
    {
     "name": "stdout",
     "output_type": "stream",
     "text": [
      "[1, 9, 25, 49, 81]\n"
     ]
    }
   ],
   "source": [
    "##Create a program that generates a list of squares of odd numbers between 1 and 10 using list comprehension.\n",
    "\n",
    "A = list(range(1,11,1))\n",
    "\n",
    "B = [i**2 for i in A if i%2 != 0]\n",
    "\n",
    "print(B)"
   ]
  },
  {
   "cell_type": "code",
   "execution_count": 22,
   "id": "2361e92b-62fa-4bcd-8be6-e5f5fa3e5c79",
   "metadata": {},
   "outputs": [
    {
     "name": "stdout",
     "output_type": "stream",
     "text": [
      "{'A': 1, 'B': 2, 'C': 3, 'D': 4, 'E': 5}\n"
     ]
    }
   ],
   "source": [
    "##Write a program that combines two lists into a dictionary using list comprehension.\n",
    "\n",
    "A = ['A','B','C','D','E']\n",
    "\n",
    "B = [1,2,3,4,5]\n",
    "\n",
    "C = {A:B for A, B in zip(A, B)}\n",
    "\n",
    "print(C)"
   ]
  },
  {
   "cell_type": "code",
   "execution_count": 27,
   "id": "cfd9e914-787c-4002-96f7-a93bf145daa1",
   "metadata": {},
   "outputs": [
    {
     "name": "stdin",
     "output_type": "stream",
     "text": [
      "Enter a word:  priyesh\n"
     ]
    },
    {
     "name": "stdout",
     "output_type": "stream",
     "text": [
      "vowels in priyesh are : ['i', 'e']\n"
     ]
    }
   ],
   "source": [
    "##Develop a program that extracts the vowels from a string and stores them in a list using list comprehension.\n",
    "\n",
    "vowels = ['a','e','i','o','u']\n",
    "\n",
    "word = input(\"Enter a word: \")\n",
    "\n",
    "v_word = [i for i in word if i in vowels]\n",
    "\n",
    "print(f\"vowels in {word} are : {v_word}\")"
   ]
  },
  {
   "cell_type": "code",
   "execution_count": 30,
   "id": "1753fa62-d9cf-470a-bdfc-8be4ea1d103a",
   "metadata": {},
   "outputs": [
    {
     "name": "stdout",
     "output_type": "stream",
     "text": [
      "[2, 1, 5, 8]\n"
     ]
    }
   ],
   "source": [
    "##Create a program that removes all non-numeric characters from a list of strings using list comprehension.\n",
    "\n",
    "listA = ['p',2,1,5,8,'a']\n",
    "\n",
    "B = [i for i in listA if type(i) == int]\n",
    "\n",
    "print(B)"
   ]
  },
  {
   "cell_type": "code",
   "execution_count": 3,
   "id": "11e6fb08-95e2-4eec-93c3-81a37eaa52ea",
   "metadata": {},
   "outputs": [
    {
     "name": "stdin",
     "output_type": "stream",
     "text": [
      "Enter the upper limit for prime numbers:  100\n"
     ]
    },
    {
     "name": "stdout",
     "output_type": "stream",
     "text": [
      "Prime numbers up to 100 are: [2, 3, 5, 7, 11, 13, 17, 19, 23, 29, 31, 37, 41, 43, 47, 53, 59, 61, 67, 71, 73, 79, 83, 89, 97]\n"
     ]
    }
   ],
   "source": [
    "##Write a program to generate a list of prime numbers using the Sieve of Eratosthenes algorithm and list comprehension.\n",
    "\n",
    "limit = int(input(\"Enter the upper limit for prime numbers: \"))\n",
    "\n",
    "sieve = [True] * (limit + 1)\n",
    "\n",
    "sieve[0] = sieve[1] = False\n",
    "\n",
    "for start in range(2, int(limit**0.5) + 1):\n",
    "    if sieve[start]:\n",
    "        for multiple in range(start*start, limit + 1, start):\n",
    "            sieve[multiple] = False\n",
    "\n",
    "primes = [num for num, is_prime in enumerate(sieve) if is_prime]\n",
    "\n",
    "print(\"Prime numbers up to\", limit, \"are:\", primes)"
   ]
  },
  {
   "cell_type": "code",
   "execution_count": 6,
   "id": "046622fc-1cb6-4880-9335-b94bbc7cadf2",
   "metadata": {},
   "outputs": [
    {
     "name": "stdin",
     "output_type": "stream",
     "text": [
      "Enter an upper limit for a Pythagorean triplets:  50\n"
     ]
    },
    {
     "name": "stdout",
     "output_type": "stream",
     "text": [
      "List of all Pythagorean triplets: [(3, 4, 5), (5, 12, 13), (6, 8, 10), (7, 24, 25), (8, 15, 17), (9, 12, 15), (9, 40, 41), (10, 24, 26), (12, 16, 20), (12, 35, 37), (15, 20, 25), (15, 36, 39), (16, 30, 34), (18, 24, 30), (20, 21, 29), (21, 28, 35), (24, 32, 40), (27, 36, 45)]\n"
     ]
    }
   ],
   "source": [
    "## Create a program that generates a list of all Pythagorean triplets up to a specified limit using list comprehension.\n",
    "\n",
    "limit = int(input(\"Enter an upper limit for a Pythagorean triplets: \"))\n",
    "            \n",
    "pythagorean_triplets = [\n",
    "    (a,b,c)\n",
    "    for a in range(1,limit)\n",
    "    for b in range(a+1,limit)\n",
    "    for c in range(b+1,limit)\n",
    "    if a**2 + b**2 == c**2\n",
    "]\n",
    "\n",
    "print(f\"List of all Pythagorean triplets: {pythagorean_triplets}\")"
   ]
  },
  {
   "cell_type": "code",
   "execution_count": 7,
   "id": "9350bdbf-beab-4198-8c19-93475cf1529f",
   "metadata": {},
   "outputs": [
    {
     "name": "stdout",
     "output_type": "stream",
     "text": [
      "All possible combinations:\n",
      "[(1, 'a'), (1, 'b'), (1, 'c'), (2, 'a'), (2, 'b'), (2, 'c'), (3, 'a'), (3, 'b'), (3, 'c')]\n"
     ]
    }
   ],
   "source": [
    "##Develop a program that generates a list of all possible combinations of two lists using list comprehension.\n",
    "\n",
    "list1 = [1, 2, 3]\n",
    "list2 = ['a', 'b', 'c']\n",
    "\n",
    "combinations = [(x, y) for x in list1 for y in list2]\n",
    "\n",
    "print(\"All possible combinations:\")\n",
    "print(combinations)"
   ]
  },
  {
   "cell_type": "code",
   "execution_count": 8,
   "id": "b4a95b86-2c75-429a-a943-874337eb9b7d",
   "metadata": {},
   "outputs": [
    {
     "name": "stdout",
     "output_type": "stream",
     "text": [
      "Mean: 3.6666666666666665\n",
      "Median: 4\n",
      "Mode: 5\n",
      "[1, 2, 2, 3, 4, 5, 5, 5, 6]\n"
     ]
    }
   ],
   "source": [
    "##Write a program that calculates the mean, median, and mode of a list of numbers using list comprehension.\n",
    "\n",
    "numbers = [1, 2, 2, 3, 4, 5, 5, 5, 6]\n",
    "\n",
    "mean = sum([x for x in numbers]) / len(numbers)\n",
    "\n",
    "sorted_numbers = sorted([x for x in numbers])\n",
    "length = len(sorted_numbers)\n",
    "median = (sorted_numbers[length // 2] if length % 2 != 0 \n",
    "          else (sorted_numbers[length // 2 - 1] + sorted_numbers[length // 2]) / 2)\n",
    "\n",
    "frequency = {num: [numbers.count(num) for _ in numbers if _ == num][0] for num in set(numbers)}\n",
    "max_freq = max(frequency.values())\n",
    "mode = [num for num, freq in frequency.items() if freq == max_freq]\n",
    "\n",
    "print(\"Mean:\", mean)\n",
    "print(\"Median:\", median)\n",
    "print(\"Mode:\", mode if len(mode) > 1 else mode[0])\n"
   ]
  },
  {
   "cell_type": "code",
   "execution_count": 9,
   "id": "30857ebb-035a-40ad-9ca2-33126100a52b",
   "metadata": {},
   "outputs": [
    {
     "name": "stdin",
     "output_type": "stream",
     "text": [
      "Enter the number of rows for Pascal's Triangle:  5\n"
     ]
    },
    {
     "name": "stdout",
     "output_type": "stream",
     "text": [
      "[1]\n",
      "[1, 1]\n",
      "[1, 2, 1]\n",
      "[1, 3, 3, 1]\n",
      "[1, 4, 6, 4, 1]\n"
     ]
    }
   ],
   "source": [
    "##Create a program that generates Pascal's triangle up to a specified number of rows using list comprehension.\n",
    "\n",
    "num_rows = int(input(\"Enter the number of rows for Pascal's Triangle: \"))\n",
    "\n",
    "pascals_triangle = [[1]]\n",
    "\n",
    "for i in range(1, num_rows):\n",
    "    previous_row = pascals_triangle[-1]\n",
    "    current_row = [1] + [previous_row[j] + previous_row[j + 1] for j in range(len(previous_row) - 1)] + [1]\n",
    "    pascals_triangle.append(current_row)\n",
    "\n",
    "for row in pascals_triangle:\n",
    "    print(row)\n"
   ]
  },
  {
   "cell_type": "code",
   "execution_count": 8,
   "id": "c9fde1c4-aa95-4611-9fb4-4cefb2961a19",
   "metadata": {},
   "outputs": [
    {
     "name": "stdout",
     "output_type": "stream",
     "text": [
      "Original List = [1, 2, 3, 4, 5]\n",
      "List with factorial of each number = [1, 2, 6, 24, 120]\n",
      "Sum of each digits in factorial = [1, 2, 6, 6, 3]\n"
     ]
    }
   ],
   "source": [
    "##Develop a program that calculates the sum of the digits of a factorial of numbers from 1 to 5 using list comprehension.\n",
    "\n",
    "A = [1,2,3,4,5]\n",
    "\n",
    "B = []\n",
    "\n",
    "for i in A:\n",
    "    x = 1\n",
    "    for j in range(1,i+1,1):\n",
    "        x = x * j\n",
    "    B.append(x)\n",
    "    \n",
    "sum_of_digits = [sum(int(digit) for digit in str(num)) for num in B]\n",
    "  \n",
    "print(f\"Original List = {A}\")\n",
    "print(f\"List with factorial of each number = {B}\") \n",
    "print(f\"Sum of each digits in factorial = {sum_of_digits}\")"
   ]
  },
  {
   "cell_type": "code",
   "execution_count": 24,
   "id": "c4ae76b0-5d75-47bd-8a41-8f1fcc04debc",
   "metadata": {},
   "outputs": [
    {
     "name": "stdin",
     "output_type": "stream",
     "text": [
      "Enter a Sentence:  Hey I wanted to meet you for so long\n"
     ]
    },
    {
     "name": "stdout",
     "output_type": "stream",
     "text": [
      "longest word in provided sentence is: wanted\n"
     ]
    }
   ],
   "source": [
    "##Write a program that finds the longest word in a sentence using list comprehension.\n",
    "\n",
    "Sentence = input(\"Enter a Sentence: \")\n",
    "\n",
    "A = Sentence.split()\n",
    "\n",
    "B = []\n",
    "\n",
    "max_value = 1\n",
    "longest_word = \"\"\n",
    "\n",
    "for i in A:\n",
    "    count = 0\n",
    "    for j in range(1,len(i)+1,1):\n",
    "        count = count + 1\n",
    "        if count > max_value:\n",
    "            max_value = count\n",
    "            longest_word = i\n",
    "\n",
    "            \n",
    "print(f\"longest word in provided sentence is: {longest_word}\")\n"
   ]
  },
  {
   "cell_type": "code",
   "execution_count": 25,
   "id": "d4d6426f-74f9-456d-b167-9d3cf7005246",
   "metadata": {},
   "outputs": [
    {
     "name": "stdout",
     "output_type": "stream",
     "text": [
      "['beautiful', 'exquisite']\n"
     ]
    }
   ],
   "source": [
    "##Create a program that filters a list of strings to include only those with more than three vowels using list comprehension.\n",
    "\n",
    "strings = [\"hello\", \"beautiful\", \"world\", \"umbrella\", \"python\", \"exquisite\"]\n",
    "\n",
    "vowels = 'aeiouAEIOU'\n",
    "\n",
    "filtered_strings = [s for s in strings if sum(1 for char in s if char in vowels) > 3]\n",
    "\n",
    "print(filtered_strings)\n"
   ]
  },
  {
   "cell_type": "code",
   "execution_count": 27,
   "id": "984bb628-277b-40ed-b03c-e0dc40594793",
   "metadata": {},
   "outputs": [
    {
     "name": "stdout",
     "output_type": "stream",
     "text": [
      "[1, 2, 3, 4, 5, 6, 7, 8, 9, 1, 2, 3, 4, 5, 6, 7, 8, 9, 10, 2, 3, 4, 5, 6, 7, 8, 9, 10, 11, 3, 4, 5, 6, 7, 8, 9, 10, 11, 12, 4, 5, 6, 7, 8, 9, 10, 11, 12, 13, 5, 6, 7, 8, 9, 10, 11, 12, 13, 14, 6, 7, 8, 9, 10, 11, 12, 13, 14, 15, 7, 8, 9, 10, 11, 12, 13, 14, 15, 16, 8, 9, 10, 11, 12, 13, 14, 15, 16, 17, 9, 10, 11, 12, 13, 14, 15, 16, 17, 18, 1, 2, 3, 4, 5, 6, 7, 8, 9, 10, 2, 3, 4, 5, 6, 7, 8, 9, 10, 11, 3, 4, 5, 6, 7, 8, 9, 10, 11, 12, 4, 5, 6, 7, 8, 9, 10, 11, 12, 13, 5, 6, 7, 8, 9, 10, 11, 12, 13, 14, 6, 7, 8, 9, 10, 11, 12, 13, 14, 15, 7, 8, 9, 10, 11, 12, 13, 14, 15, 16, 8, 9, 10, 11, 12, 13, 14, 15, 16, 17, 9, 10, 11, 12, 13, 14, 15, 16, 17, 18, 10, 11, 12, 13, 14, 15, 16, 17, 18, 19, 2, 3, 4, 5, 6, 7, 8, 9, 10, 11, 3, 4, 5, 6, 7, 8, 9, 10, 11, 12, 4, 5, 6, 7, 8, 9, 10, 11, 12, 13, 5, 6, 7, 8, 9, 10, 11, 12, 13, 14, 6, 7, 8, 9, 10, 11, 12, 13, 14, 15, 7, 8, 9, 10, 11, 12, 13, 14, 15, 16, 8, 9, 10, 11, 12, 13, 14, 15, 16, 17, 9, 10, 11, 12, 13, 14, 15, 16, 17, 18, 10, 11, 12, 13, 14, 15, 16, 17, 18, 19, 11, 12, 13, 14, 15, 16, 17, 18, 19, 20, 3, 4, 5, 6, 7, 8, 9, 10, 11, 12, 4, 5, 6, 7, 8, 9, 10, 11, 12, 13, 5, 6, 7, 8, 9, 10, 11, 12, 13, 14, 6, 7, 8, 9, 10, 11, 12, 13, 14, 15, 7, 8, 9, 10, 11, 12, 13, 14, 15, 16, 8, 9, 10, 11, 12, 13, 14, 15, 16, 17, 9, 10, 11, 12, 13, 14, 15, 16, 17, 18, 10, 11, 12, 13, 14, 15, 16, 17, 18, 19, 11, 12, 13, 14, 15, 16, 17, 18, 19, 20, 12, 13, 14, 15, 16, 17, 18, 19, 20, 21, 4, 5, 6, 7, 8, 9, 10, 11, 12, 13, 5, 6, 7, 8, 9, 10, 11, 12, 13, 14, 6, 7, 8, 9, 10, 11, 12, 13, 14, 15, 7, 8, 9, 10, 11, 12, 13, 14, 15, 16, 8, 9, 10, 11, 12, 13, 14, 15, 16, 17, 9, 10, 11, 12, 13, 14, 15, 16, 17, 18, 10, 11, 12, 13, 14, 15, 16, 17, 18, 19, 11, 12, 13, 14, 15, 16, 17, 18, 19, 20, 12, 13, 14, 15, 16, 17, 18, 19, 20, 21, 13, 14, 15, 16, 17, 18, 19, 20, 21, 22, 5, 6, 7, 8, 9, 10, 11, 12, 13, 14, 6, 7, 8, 9, 10, 11, 12, 13, 14, 15, 7, 8, 9, 10, 11, 12, 13, 14, 15, 16, 8, 9, 10, 11, 12, 13, 14, 15, 16, 17, 9, 10, 11, 12, 13, 14, 15, 16, 17, 18, 10, 11, 12, 13, 14, 15, 16, 17, 18, 19, 11, 12, 13, 14, 15, 16, 17, 18, 19, 20, 12, 13, 14, 15, 16, 17, 18, 19, 20, 21, 13, 14, 15, 16, 17, 18, 19, 20, 21, 22, 14, 15, 16, 17, 18, 19, 20, 21, 22, 23, 6, 7, 8, 9, 10, 11, 12, 13, 14, 15, 7, 8, 9, 10, 11, 12, 13, 14, 15, 16, 8, 9, 10, 11, 12, 13, 14, 15, 16, 17, 9, 10, 11, 12, 13, 14, 15, 16, 17, 18, 10, 11, 12, 13, 14, 15, 16, 17, 18, 19, 11, 12, 13, 14, 15, 16, 17, 18, 19, 20, 12, 13, 14, 15, 16, 17, 18, 19, 20, 21, 13, 14, 15, 16, 17, 18, 19, 20, 21, 22, 14, 15, 16, 17, 18, 19, 20, 21, 22, 23, 15, 16, 17, 18, 19, 20, 21, 22, 23, 24, 7, 8, 9, 10, 11, 12, 13, 14, 15, 16, 8, 9, 10, 11, 12, 13, 14, 15, 16, 17, 9, 10, 11, 12, 13, 14, 15, 16, 17, 18, 10, 11, 12, 13, 14, 15, 16, 17, 18, 19, 11, 12, 13, 14, 15, 16, 17, 18, 19, 20, 12, 13, 14, 15, 16, 17, 18, 19, 20, 21, 13, 14, 15, 16, 17, 18, 19, 20, 21, 22, 14, 15, 16, 17, 18, 19, 20, 21, 22, 23, 15, 16, 17, 18, 19, 20, 21, 22, 23, 24, 16, 17, 18, 19, 20, 21, 22, 23, 24, 25, 8, 9, 10, 11, 12, 13, 14, 15, 16, 17, 9, 10, 11, 12, 13, 14, 15, 16, 17, 18, 10, 11, 12, 13, 14, 15, 16, 17, 18, 19, 11, 12, 13, 14, 15, 16, 17, 18, 19, 20, 12, 13, 14, 15, 16, 17, 18, 19, 20, 21, 13, 14, 15, 16, 17, 18, 19, 20, 21, 22, 14, 15, 16, 17, 18, 19, 20, 21, 22, 23, 15, 16, 17, 18, 19, 20, 21, 22, 23, 24, 16, 17, 18, 19, 20, 21, 22, 23, 24, 25, 17, 18, 19, 20, 21, 22, 23, 24, 25, 26, 9, 10, 11, 12, 13, 14, 15, 16, 17, 18, 10, 11, 12, 13, 14, 15, 16, 17, 18, 19, 11, 12, 13, 14, 15, 16, 17, 18, 19, 20, 12, 13, 14, 15, 16, 17, 18, 19, 20, 21, 13, 14, 15, 16, 17, 18, 19, 20, 21, 22, 14, 15, 16, 17, 18, 19, 20, 21, 22, 23, 15, 16, 17, 18, 19, 20, 21, 22, 23, 24, 16, 17, 18, 19, 20, 21, 22, 23, 24, 25, 17, 18, 19, 20, 21, 22, 23, 24, 25, 26, 18, 19, 20, 21, 22, 23, 24, 25, 26, 27, 1]\n"
     ]
    }
   ],
   "source": [
    "##Develop a program that calculates the sum of the digits of numbers from 1 to 1000 using list comprehension.\n",
    "\n",
    "Sum_of_digits = [sum(int(digit) for digit in str(num)) for num in range(1,1001,1)]\n",
    "\n",
    "print(Sum_of_digits)"
   ]
  },
  {
   "cell_type": "code",
   "execution_count": 28,
   "id": "58e6c880-a4a5-427c-8d71-7ef8638a5943",
   "metadata": {},
   "outputs": [
    {
     "name": "stdout",
     "output_type": "stream",
     "text": [
      "Prime palindromic numbers: [2, 3, 5, 7, 11, 101, 131, 151, 181, 191, 313, 353, 373, 383, 727, 757, 787, 797, 919, 929]\n"
     ]
    }
   ],
   "source": [
    "##Write a program that generates a list of prime palindromic numbers using list comprehension.\n",
    "\n",
    "prime_palindromes = [num for num in range(2, 1000) if all(num % i != 0 for i in range(2, int(num**0.5) + 1)) and str(num) == str(num)[::-1]]\n",
    "\n",
    "print(\"Prime palindromic numbers:\", prime_palindromes)\n"
   ]
  }
 ],
 "metadata": {
  "kernelspec": {
   "display_name": "Python 3 (ipykernel)",
   "language": "python",
   "name": "python3"
  },
  "language_info": {
   "codemirror_mode": {
    "name": "ipython",
    "version": 3
   },
   "file_extension": ".py",
   "mimetype": "text/x-python",
   "name": "python",
   "nbconvert_exporter": "python",
   "pygments_lexer": "ipython3",
   "version": "3.10.8"
  }
 },
 "nbformat": 4,
 "nbformat_minor": 5
}
