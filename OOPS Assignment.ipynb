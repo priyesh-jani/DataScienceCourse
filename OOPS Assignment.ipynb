{
 "cells": [
  {
   "cell_type": "markdown",
   "id": "939b263a",
   "metadata": {},
   "source": [
    "###Problem 1: Bank Account Create a class representing a bank account with attributes like account number,\n",
    "account holder name, and balance. Implement methods to deposit and withdraw money from the account."
   ]
  },
  {
   "cell_type": "code",
   "execution_count": 15,
   "id": "b91026c0",
   "metadata": {},
   "outputs": [
    {
     "name": "stdout",
     "output_type": "stream",
     "text": [
      "Deposited Amount 200. New Balance 700\n",
      "Withdrawal Amount 100. New Balance 600\n"
     ]
    }
   ],
   "source": [
    "class bankaccount:\n",
    "    \n",
    "    def __init__(self, acc_num, acc_name, initial_balance=0):\n",
    "        self.acc_num = acc_num\n",
    "        self.acc_name = acc_name\n",
    "        self.balance = initial_balance\n",
    "        \n",
    "    def deposit(self,amount):\n",
    "        \n",
    "        if amount > 0:\n",
    "            self.balance += amount\n",
    "            \n",
    "            print(f\"Deposited Amount {amount}. New Balance {self.balance}\")\n",
    "            \n",
    "        else:\n",
    "            \n",
    "            print(\"Invalid Amount\")\n",
    "            \n",
    "    def withdraw(self, amount):\n",
    "        \n",
    "        if 0 < amount < self.balance:\n",
    "            \n",
    "            self.balance -= amount\n",
    "            \n",
    "            print(f\"Withdrawal Amount {amount}. New Balance {self.balance}\")\n",
    "        \n",
    "        else:\n",
    "            \n",
    "            print(\"Insufficient funds. Available Balance {self.balance}\")\n",
    "            \n",
    "priyesh = bankaccount(123,'Priyesh',500)\n",
    "\n",
    "priyesh.deposit(200)\n",
    "\n",
    "priyesh.withdraw(100)\n",
    "        "
   ]
  },
  {
   "cell_type": "markdown",
   "id": "6fbac26f",
   "metadata": {},
   "source": [
    "Problem 2: Employee Management Create a class representing an employee with attributes like employee ID, name, and salary. Implement methods to calculate the yearly bonus and display employee details."
   ]
  },
  {
   "cell_type": "code",
   "execution_count": 18,
   "id": "e9d15896",
   "metadata": {},
   "outputs": [
    {
     "name": "stdout",
     "output_type": "stream",
     "text": [
      "Employee's Bonus 15.0\n",
      "Employee_Name = Pooja, Employee_ID = 123, Employee_Salary = 150\n"
     ]
    }
   ],
   "source": [
    "class employee:\n",
    "    \n",
    "    def __init__(self, employee_ID, employee_name, salary):\n",
    "        self.employee_ID = employee_ID\n",
    "        self.employee_name = employee_name\n",
    "        self.salary = salary\n",
    "        \n",
    "    def bonus(self, bonus_percentage):\n",
    "        if bonus_percentage > 0:\n",
    "            bonus = self.salary * bonus_percentage\n",
    "            print(f\"Employee's Bonus {bonus}\")\n",
    "            \n",
    "        else:\n",
    "            print(\"Invalid Bonus Percentage\")\n",
    "            \n",
    "    def employee_details(self):\n",
    "        print(f\"Employee_Name = {self.employee_name}, Employee_ID = {self.employee_ID}, Employee_Salary = {self.salary}\")\n",
    "        \n",
    "Pooja = employee(123,'Pooja',150)\n",
    "Pooja.bonus(0.10)\n",
    "Pooja.employee_details()"
   ]
  },
  {
   "cell_type": "markdown",
   "id": "809af9bf",
   "metadata": {},
   "source": [
    "Problem 3: Vehicle Rental Create a class representing a vehicle rental system. Implement methods to rent a vehicle, return a vehicle, and display available vehicles."
   ]
  },
  {
   "cell_type": "code",
   "execution_count": 58,
   "id": "f585ae69",
   "metadata": {},
   "outputs": [
    {
     "name": "stdout",
     "output_type": "stream",
     "text": [
      "Available Vehicles: \n",
      "Vehicle_ID = V001 and Vehicle_Type = Car\n",
      "Vehicle_ID = V002 and Vehicle_Type = Truck\n",
      "Vehicle_ID = V003 and Vehicle_Type = Motorcycle\n",
      "Vehicle Rented Successfully\n",
      "Available Vehicles: \n",
      "Vehicle_ID = V002 and Vehicle_Type = Truck\n",
      "Vehicle_ID = V003 and Vehicle_Type = Motorcycle\n",
      "Vehicle Returned Successfully\n"
     ]
    }
   ],
   "source": [
    "class vehicle:\n",
    "    \n",
    "    def __init__(self, vehicle_id, vehicle_type, is_available = True):\n",
    "        self.vehicle_id = vehicle_id\n",
    "        self.vehicle_type = vehicle_type\n",
    "        self.is_available = is_available\n",
    "    \n",
    "class rental_system:\n",
    "    \n",
    "    def __init__(self):\n",
    "        self.vehicles = []\n",
    "        \n",
    "    def add_vehicle(self, vehicle):\n",
    "        self.vehicles.append(vehicle)\n",
    "        \n",
    "    def rent_vehicle(self, vehicle_id):\n",
    "        for vehicle in self.vehicles:\n",
    "            if vehicle.vehicle_id == vehicle_id and vehicle.is_available:\n",
    "                vehicle.is_available = False\n",
    "                print(\"Vehicle Rented Successfully\")\n",
    "                return\n",
    "            else:\n",
    "                (f\"{vehicle_id} vehicle is not available\")\n",
    "                \n",
    "    def return_vehicle(self, vehicle_id):\n",
    "        for vehicle in self.vehicles:\n",
    "            if vehicle.vehicle_id == vehicle_id and not vehicle.is_available:\n",
    "                vehicle.is_availble = True\n",
    "                print(\"Vehicle Returned Successfully\")\n",
    "                return\n",
    "            else:\n",
    "                print(f\"Vehicle {vehicle_id} not found or already available.\")\n",
    "                \n",
    "    def display_available(self):\n",
    "        print(\"Available Vehicles: \")\n",
    "        for vehicle in self.vehicles:\n",
    "            if vehicle.is_available:\n",
    "                print(f\"Vehicle_ID = {vehicle.vehicle_id} and Vehicle_Type = {vehicle.vehicle_type}\")\n",
    "                \n",
    "Enterprise = rental_system()\n",
    "\n",
    "Enterprise.add_vehicle(vehicle(\"V001\", \"Car\"))\n",
    "Enterprise.add_vehicle(vehicle(\"V002\", \"Truck\"))\n",
    "Enterprise.add_vehicle(vehicle(\"V003\", \"Motorcycle\"))\n",
    "\n",
    "Enterprise.display_available()\n",
    "Enterprise.rent_vehicle('V001')\n",
    "Enterprise.display_available()\n",
    "Enterprise.return_vehicle('V001')\n"
   ]
  },
  {
   "cell_type": "markdown",
   "id": "33421c6a",
   "metadata": {},
   "source": [
    "Problem 4: Library Catalog Create classes representing a library and a book. Implement methods to add books to the library, borrow books, and display available books."
   ]
  },
  {
   "cell_type": "code",
   "execution_count": 8,
   "id": "63c10b57",
   "metadata": {},
   "outputs": [
    {
     "name": "stdout",
     "output_type": "stream",
     "text": [
      "Available Books: \n",
      "Book_ID = 1 and Book_Type = Book1\n",
      "Book_ID = 2 and Book_Type = Book2\n",
      "Book_ID = 3 and Book_Type = Book3\n",
      "Book_ID = 1 is borrowed\n",
      "Available Books: \n",
      "Book_ID = 2 and Book_Type = Book2\n",
      "Book_ID = 3 and Book_Type = Book3\n",
      "Book_ID = 1 is returned\n",
      "Available Books: \n",
      "Book_ID = 1 and Book_Type = Book1\n",
      "Book_ID = 2 and Book_Type = Book2\n",
      "Book_ID = 3 and Book_Type = Book3\n"
     ]
    }
   ],
   "source": [
    "class book_details:\n",
    "    \n",
    "    def __init__(self,book_id,book_type,is_available = True):\n",
    "        self.book_id = book_id\n",
    "        self.book_type = book_type\n",
    "        self.is_available = is_available\n",
    "        \n",
    "class library_system:\n",
    "    \n",
    "    def __init__(self):\n",
    "        self.books = []\n",
    "    \n",
    "    def add_books(self, book_details):\n",
    "        self.books.append(book_details)\n",
    "        \n",
    "    def borrow_books(self, book_id):\n",
    "        for book in self.books:\n",
    "            if book.book_id == book_id and book.is_available:\n",
    "                book.is_available = False\n",
    "                print(f\"Book_ID = {book_id} is borrowed\")\n",
    "                return \n",
    "            else:\n",
    "                print(f\"Book_ID = {book_id} is not available in library\")\n",
    "                \n",
    "    def return_books(self, book_id):\n",
    "        for book in self.books:\n",
    "            if book.book_id == book_id and not book.is_available:\n",
    "                book.is_available = True\n",
    "                print(f\"Book_ID = {book_id} is returned\")\n",
    "                return   \n",
    "            else:\n",
    "                print(f\"Book_ID = {book_id} is not available in library\")\n",
    "                \n",
    "    def display_books(self):\n",
    "        print(\"Available Books: \")\n",
    "        for book in self.books:\n",
    "            if book.is_available:\n",
    "                print(f\"Book_ID = {book.book_id} and Book_Type = {book.book_type}\")\n",
    "\n",
    "dallas_lib = library_system()\n",
    "\n",
    "dallas_lib.add_books(book_details(\"1\", \"Book1\"))\n",
    "dallas_lib.add_books(book_details(\"2\", \"Book2\"))\n",
    "dallas_lib.add_books(book_details(\"3\", \"Book3\"))\n",
    "\n",
    "\n",
    "dallas_lib.display_books()\n",
    "dallas_lib.borrow_books('1')\n",
    "dallas_lib.display_books()\n",
    "dallas_lib.return_books('1')\n",
    "dallas_lib.display_books()\n",
    "                "
   ]
  },
  {
   "cell_type": "markdown",
   "id": "66b13874",
   "metadata": {},
   "source": [
    "Problem 5: Product Inventory Create classes representing a product and an inventory system. Implement methods to add products to the inventory, update product quantity, and display available products."
   ]
  },
  {
   "cell_type": "code",
   "execution_count": 12,
   "id": "eacd731e",
   "metadata": {},
   "outputs": [
    {
     "name": "stdout",
     "output_type": "stream",
     "text": [
      "Available Products: \n",
      "SKU = 1, SKU_Name: TV, Quantity: 5\n",
      "SKU = 2, SKU_Name: Mobile, Quantity: 3\n",
      "SKU = 3, SKU_Name: Cable, Quantity: 10\n",
      "1 quantity is updated to 15\n",
      "Available Products: \n",
      "SKU = 1, SKU_Name: TV, Quantity: 15\n",
      "SKU = 2, SKU_Name: Mobile, Quantity: 3\n",
      "SKU = 3, SKU_Name: Cable, Quantity: 10\n"
     ]
    }
   ],
   "source": [
    "class product:\n",
    "    def __init__(self, sku_id, sku_name, quantity=0, is_available = True):\n",
    "        self.sku_id = sku_id\n",
    "        self.sku_name = sku_name\n",
    "        self.quantity = int(quantity)\n",
    "        self.is_available = is_available\n",
    "        \n",
    "class inventory_system:\n",
    "    \n",
    "    def __init__(self):\n",
    "        self.products = []\n",
    "    \n",
    "    def add_product(self, product):\n",
    "        self.products.append(product)\n",
    "        \n",
    "    def add_quantity(self, sku_id, quantity):\n",
    "        for product in self.products:\n",
    "            if product.sku_id == sku_id and product.is_available:\n",
    "                product.quantity = product.quantity + quantity\n",
    "                print(f\"{product.sku_id} quantity is updated to {product.quantity}\")\n",
    "                return\n",
    "            else:\n",
    "                print(f\"Such Product is not available or quantity is not valid\")\n",
    "                \n",
    "    def display_products(self):\n",
    "        print(\"Available Products: \")\n",
    "        for product in self.products:\n",
    "            if product.is_available:\n",
    "                print(f\"SKU = {product.sku_id}, SKU_Name: {product.sku_name}, Quantity: {product.quantity}\")\n",
    "                \n",
    "storeA = inventory_system()\n",
    "\n",
    "storeA.add_product(product(\"1\", \"TV\",5))\n",
    "storeA.add_product(product(\"2\", \"Mobile\",3))\n",
    "storeA.add_product(product(\"3\", \"Cable\",10))\n",
    "\n",
    "storeA.display_products()\n",
    "storeA.add_quantity('1',10)\n",
    "storeA.display_products()\n",
    "        "
   ]
  },
  {
   "cell_type": "markdown",
   "id": "a1a5ac5f",
   "metadata": {},
   "source": [
    "Problem 6: Shape Calculation Create a class representing a shape with attributes like length, width, and height. Implement methods to calculate the area and perimeter of the shape."
   ]
  },
  {
   "cell_type": "code",
   "execution_count": 22,
   "id": "5f4f8795",
   "metadata": {},
   "outputs": [
    {
     "name": "stdout",
     "output_type": "stream",
     "text": [
      "Perimeter of 2D Shape is 14\n",
      "Area of 2D Shape is 12\n",
      "Perimeter of 3D Shape is None\n",
      "Area of 3D Shape is 94\n"
     ]
    }
   ],
   "source": [
    "class shape_calculate:\n",
    "    \n",
    "    def __init__(self, length, width, height=None):\n",
    "        self.length = length\n",
    "        self.width = width\n",
    "        self.height = height\n",
    "        \n",
    "    def area(self):\n",
    "        if self.height:\n",
    "            return 2 * (self.length * self.width + self.length * self.height + self.width * self.height)\n",
    "        else:\n",
    "            return self.length * self.width\n",
    "            \n",
    "    def perimeter(self):\n",
    "        if self.height:\n",
    "            return None\n",
    "        else:\n",
    "            return 2 * (self.length + self.width)            \n",
    "\n",
    "shape_2D = shape_calculate(3,4)\n",
    "print(f\"Perimeter of 2D Shape is {shape_2D.perimeter()}\")\n",
    "print(f\"Area of 2D Shape is {shape_2D.area()}\")\n",
    "\n",
    "shape_3D = shape_calculate(3,4,5)\n",
    "print(f\"Perimeter of 3D Shape is {shape_3D.perimeter()}\")\n",
    "print(f\"Area of 3D Shape is {shape_3D.area()}\")"
   ]
  },
  {
   "cell_type": "markdown",
   "id": "ddc84e2f",
   "metadata": {},
   "source": [
    "Problem 7: Student Management Create a class representing a student with attributes like student ID, name, and grades. Implement methods to calculate the average grade and display student details."
   ]
  },
  {
   "cell_type": "code",
   "execution_count": 24,
   "id": "cc28bea1",
   "metadata": {},
   "outputs": [
    {
     "name": "stdout",
     "output_type": "stream",
     "text": [
      "Student ID: S001\n",
      "Student Name: Alice Johnson\n",
      "Grades: 85, 92, 78, 88\n",
      "Average Grade: 85.75\n"
     ]
    }
   ],
   "source": [
    "class student_management:\n",
    "    \n",
    "    def __init__(self, student_id, name, grades):\n",
    "        self.student_id = student_id\n",
    "        self.name = name\n",
    "        self.grades = grades\n",
    "        \n",
    "    def average_grade(self):\n",
    "        if not self.grades:\n",
    "            return None\n",
    "        else:\n",
    "            return sum(self.grades) / len(self.grades)\n",
    "    \n",
    "    def student_details(self):\n",
    "        \n",
    "        average_grade = self.average_grade()\n",
    "        print(f\"Student ID: {self.student_id}\")\n",
    "        print(f\"Student Name: {self.name}\")\n",
    "        print(f\"Grades: {', '.join(map(str, self.grades))}\")\n",
    "        \n",
    "        if average_grade is not None:\n",
    "            print(f\"Average Grade: {average_grade}\")\n",
    "        else:\n",
    "            print(f\"Students Grades is not available\")\n",
    "        \n",
    "student = student_management(\"S001\", \"Alice Johnson\", [85, 92, 78, 88])\n",
    "student.student_details()            \n",
    "    "
   ]
  },
  {
   "cell_type": "markdown",
   "id": "5c5da02d",
   "metadata": {},
   "source": [
    "Problem 8: Email Management Create a class representing an email with attributes like sender, recipient, and subject. Implement methods to send an email and display email details."
   ]
  },
  {
   "cell_type": "code",
   "execution_count": 26,
   "id": "d368224c",
   "metadata": {},
   "outputs": [
    {
     "name": "stdout",
     "output_type": "stream",
     "text": [
      "Email Details:\n",
      "From: alice@example.com\n",
      "To: bob@example.com\n",
      "Subject: Meeting Reminder\n",
      "Body:\n",
      "Hi Bob,\n",
      "\n",
      "Just a reminder about our meeting tomorrow at 10 AM.\n",
      "\n",
      "Best regards,\n",
      "Alice\n",
      "sending email.....\n",
      "From: alice@example.com\n",
      "To: bob@example.com\n",
      "Subject: Meeting Reminder\n",
      "Body: Hi Bob,\n",
      "\n",
      "Just a reminder about our meeting tomorrow at 10 AM.\n",
      "\n",
      "Best regards,\n",
      "Alice\n",
      "Email Sent Successfully\n"
     ]
    }
   ],
   "source": [
    "class email_tool:\n",
    "    \n",
    "    def __init__(self, sender, recipient, subject, body):\n",
    "        self.sender = sender\n",
    "        self.recipient = recipient\n",
    "        self.subject = subject\n",
    "        self.body = body\n",
    "        \n",
    "    def send_email(self):\n",
    "        \n",
    "        print(f\"sending email.....\\nFrom: {self.sender}\\nTo: {self.recipient}\\nSubject: {self.subject}\\nBody: {self.body}\")\n",
    "        print(\"Email Sent Successfully\")\n",
    "        \n",
    "    def email_details(self):\n",
    "        \n",
    "        print(\"Email Details:\")\n",
    "        print(f\"From: {self.sender}\")\n",
    "        print(f\"To: {self.recipient}\")\n",
    "        print(f\"Subject: {self.subject}\")\n",
    "        print(f\"Body:\\n{self.body}\")\n",
    "        \n",
    "email = email_tool(\n",
    "    sender=\"alice@example.com\",\n",
    "    recipient=\"bob@example.com\",\n",
    "    subject=\"Meeting Reminder\",\n",
    "    body=\"Hi Bob,\\n\\nJust a reminder about our meeting tomorrow at 10 AM.\\n\\nBest regards,\\nAlice\"\n",
    ")\n",
    "\n",
    "email.email_details()\n",
    "\n",
    "email.send_email()"
   ]
  },
  {
   "cell_type": "markdown",
   "id": "8a998c22",
   "metadata": {},
   "source": [
    "Problem 9: Social Media Profile Create a class representing a social media profile with attributes like username and posts. Implement methods to add posts, display posts, and search for posts by keyword."
   ]
  },
  {
   "cell_type": "code",
   "execution_count": 30,
   "id": "16dc9bed",
   "metadata": {},
   "outputs": [
    {
     "name": "stdout",
     "output_type": "stream",
     "text": [
      "Post Added Successfully\n",
      "posts from Priyesh: ['About SEO and AI', 'Personal branding', 'data analytics']\n",
      "Similar to post to this keyword is data analytics\n"
     ]
    }
   ],
   "source": [
    "class social_media:\n",
    "    \n",
    "    def __init__(self, username, posts):\n",
    "        self.username = username\n",
    "        self.posts = posts\n",
    "    \n",
    "    def add_post(self, post):\n",
    "        self.posts.append(post)\n",
    "        print(f\"Post Added Successfully\")\n",
    "        \n",
    "    def display_posts(self):\n",
    "        print(f\"posts from {self.username}: {self.posts}\")\n",
    "        return\n",
    "        \n",
    "    def search_posts(self, keyword):\n",
    "        for post in self.posts:\n",
    "            if keyword not in post:\n",
    "                pass\n",
    "            else:\n",
    "                print(f\"Similar to post to this keyword is {post}\")\n",
    "                \n",
    "                \n",
    "priyesh = social_media('Priyesh', ['About SEO and AI', 'Personal branding'])\n",
    "\n",
    "priyesh.add_post('data analytics')\n",
    "priyesh.display_posts()\n",
    "priyesh.search_posts('analytics')"
   ]
  },
  {
   "cell_type": "markdown",
   "id": "9b2cb261",
   "metadata": {},
   "source": [
    "Problem 10: ToDo List Create a class representing a ToDo list with attributes like tasks and due dates. Implement methods to add tasks, mark tasks as completed, and display pending tasks."
   ]
  },
  {
   "cell_type": "code",
   "execution_count": 51,
   "id": "dacfe0c3",
   "metadata": {},
   "outputs": [
    {
     "name": "stdout",
     "output_type": "stream",
     "text": [
      "vacuum status changed to completed\n",
      "Pending Tasks: \n",
      "task: laundry, due_date: 10/05, status: pending\n",
      "task: cooking, due_date: 12/05, status: pending\n"
     ]
    }
   ],
   "source": [
    "class tasks:\n",
    "    \n",
    "    def __init__(self, tasks, due_dates, status):\n",
    "        self.tasks = tasks\n",
    "        self.due_dates = due_dates\n",
    "        self.status = status\n",
    "\n",
    "class todo_list:\n",
    "    \n",
    "    def __init__(self):\n",
    "        self.tasks = []\n",
    "        \n",
    "    def add_tasks(self, task):\n",
    "        self.tasks.append(task)\n",
    "        \n",
    "    def update_status(self, task_name, status):\n",
    "        for task in self.tasks:\n",
    "            if task.tasks == task_name and task.status == 'pending':\n",
    "                task.status = status\n",
    "                print(f\"{task.tasks} status changed to {status}\")\n",
    "                return\n",
    "            \n",
    "    def pending_tasks(self):\n",
    "        print(\"Pending Tasks: \")\n",
    "        for task in self.tasks:\n",
    "            if task.status == 'pending':\n",
    "                print(f\"task: {task.tasks}, due_date: {task.due_dates}, status: {task.status}\")\n",
    "                \n",
    "\n",
    "My_List = todo_list()\n",
    "\n",
    "My_List.add_tasks(tasks('laundry','10/05','pending'))\n",
    "My_List.add_tasks(tasks('vacuum','11/05','pending'))  \n",
    "My_List.add_tasks(tasks('cooking','12/05','pending'))\n",
    "\n",
    "My_List.update_status('vacuum','completed')\n",
    "My_List.pending_tasks()\n",
    "            \n",
    "        \n",
    "        "
   ]
  }
 ],
 "metadata": {
  "kernelspec": {
   "display_name": "Python 3",
   "language": "python",
   "name": "python3"
  },
  "language_info": {
   "codemirror_mode": {
    "name": "ipython",
    "version": 3
   },
   "file_extension": ".py",
   "mimetype": "text/x-python",
   "name": "python",
   "nbconvert_exporter": "python",
   "pygments_lexer": "ipython3",
   "version": "3.8.8"
  }
 },
 "nbformat": 4,
 "nbformat_minor": 5
}
