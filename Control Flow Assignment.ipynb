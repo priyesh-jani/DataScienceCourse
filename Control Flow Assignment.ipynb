{
 "cells": [
  {
   "cell_type": "code",
   "execution_count": 11,
   "id": "2eb268ad-3164-425e-a293-dc6a62820d94",
   "metadata": {},
   "outputs": [
    {
     "name": "stdin",
     "output_type": "stream",
     "text": [
      "Enter a postive or negative number:  -5\n"
     ]
    },
    {
     "name": "stdout",
     "output_type": "stream",
     "text": [
      "negative\n"
     ]
    }
   ],
   "source": [
    "## 1. Write a Python program to check if a given number is positive or negative.\n",
    "\n",
    "num = int(input(\"Enter a postive or negative number: \"))\n",
    "\n",
    "if num >= 0:\n",
    "    print('positive')\n",
    "else:\n",
    "    print('negative')"
   ]
  },
  {
   "cell_type": "code",
   "execution_count": 12,
   "id": "c5f5c5bf-8169-44ab-9385-fb14a8fc7781",
   "metadata": {},
   "outputs": [
    {
     "name": "stdin",
     "output_type": "stream",
     "text": [
      "Enter your age:  19\n"
     ]
    },
    {
     "name": "stdout",
     "output_type": "stream",
     "text": [
      "person is eligible to vote\n"
     ]
    }
   ],
   "source": [
    "## 2. Create a program that determines if a person is eligible to vote based on their age.\n",
    "\n",
    "Age = int(input(\"Enter your age: \"))\n",
    "\n",
    "if Age >= 18:\n",
    "    print('person is eligible to vote')\n",
    "else:\n",
    "    print('person is not eligible to vote')"
   ]
  },
  {
   "cell_type": "code",
   "execution_count": 13,
   "id": "67dafe27-04a9-443c-92b0-70d1ed0be888",
   "metadata": {},
   "outputs": [
    {
     "name": "stdin",
     "output_type": "stream",
     "text": [
      "Enter first number:  5\n",
      "Enter second number:  3\n"
     ]
    },
    {
     "name": "stdout",
     "output_type": "stream",
     "text": [
      "Max number is 5\n"
     ]
    }
   ],
   "source": [
    "## 3. Develop a program to find the maximum of two numbers using if-else statements.\n",
    "\n",
    "A = int(input(\"Enter first number: \"))\n",
    "B = int(input(\"Enter second number: \"))\n",
    "\n",
    "if A > B:\n",
    "    print(f\"Max number is {A}\")\n",
    "elif A < B:\n",
    "    print(f\"Max number is {B}\")\n",
    "else:\n",
    "    print(\"Both numbers are equal\")\n"
   ]
  },
  {
   "cell_type": "code",
   "execution_count": 15,
   "id": "ec1564c2-4570-45f4-b383-d01f3c3b2af1",
   "metadata": {},
   "outputs": [
    {
     "name": "stdin",
     "output_type": "stream",
     "text": [
      "Enter a year to check if that is a leap year 1900\n"
     ]
    },
    {
     "name": "stdout",
     "output_type": "stream",
     "text": [
      "1900 is not a leap year\n"
     ]
    }
   ],
   "source": [
    "## 4. Write a Python script to classify a given year as a leap year or not.\n",
    "\n",
    "year = int(input(\"Enter a year to check if that is a leap year\"))\n",
    "  \n",
    "if year % 100 != 0 and year % 4 == 0:\n",
    "           print(f\" {year} is leap year\")\n",
    "elif year % 100 == 0 and year % 400 == 0:\n",
    "           print(f\"{year} is leap year\")\n",
    "else:\n",
    "           print(f\"{year} is not a leap year\")\n"
   ]
  },
  {
   "cell_type": "code",
   "execution_count": 2,
   "id": "12fdc4e2-83e6-4406-a745-f5a1cc905d8e",
   "metadata": {},
   "outputs": [
    {
     "name": "stdin",
     "output_type": "stream",
     "text": [
      "Enter a Character:  a\n"
     ]
    },
    {
     "name": "stdout",
     "output_type": "stream",
     "text": [
      "Char is vowel\n"
     ]
    }
   ],
   "source": [
    "## 5. Create a program that checks whether a character is a vowel or a consonant.\n",
    "\n",
    "Char = input(\"Enter a Character: \")\n",
    "\n",
    "vowel = 'aeiouAEIOU'\n",
    "\n",
    "if Char in list(vowel):\n",
    "    print('Char is vowel')\n",
    "else:\n",
    "    print('Char is consonant')"
   ]
  },
  {
   "cell_type": "code",
   "execution_count": 4,
   "id": "6b32df95-5b19-4d18-8439-e33640006e9a",
   "metadata": {},
   "outputs": [
    {
     "name": "stdin",
     "output_type": "stream",
     "text": [
      "Enter a number to determine if that is odd or even 3\n"
     ]
    },
    {
     "name": "stdout",
     "output_type": "stream",
     "text": [
      "3 is odd\n"
     ]
    }
   ],
   "source": [
    "## 6. Implement a program to determine whether a given number is even or odd.\n",
    "\n",
    "num = int(input(\"Enter a number to determine if that is odd or even\"))\n",
    "          \n",
    "if num % 2 == 0:\n",
    "          print(f\"{num} is even\")\n",
    "else:\n",
    "          print(f\"{num} is odd\")"
   ]
  },
  {
   "cell_type": "code",
   "execution_count": 5,
   "id": "8ad7599a-5e6a-4b74-91c9-6be725dad5f1",
   "metadata": {},
   "outputs": [
    {
     "name": "stdin",
     "output_type": "stream",
     "text": [
      "Enter a posititve or negative number -1\n"
     ]
    },
    {
     "name": "stdout",
     "output_type": "stream",
     "text": [
      "1\n"
     ]
    }
   ],
   "source": [
    "## 7. Write a Python function to calculate the absolute value of a number without using the `abs()` function.\n",
    "\n",
    "num = int(input(\"Enter a posititve or negative number\"))\n",
    "\n",
    "if num < 0:\n",
    "    num = num * (-1)\n",
    "    print(num)\n",
    "else:\n",
    "    print(num)"
   ]
  },
  {
   "cell_type": "code",
   "execution_count": 1,
   "id": "9e24f58b-3b04-42f8-aeca-79eb11462e41",
   "metadata": {},
   "outputs": [
    {
     "name": "stdin",
     "output_type": "stream",
     "text": [
      "Enter first number 1\n",
      "Enter second number 2\n",
      "Enter third number 3\n"
     ]
    },
    {
     "name": "stdout",
     "output_type": "stream",
     "text": [
      "3 is largest number\n"
     ]
    }
   ],
   "source": [
    "## 8. Develop a program that determines the largest of three given numbers using if-else statements.\n",
    "\n",
    "a = int(input(\"Enter first number\"))\n",
    "b = int(input(\"Enter second number\"))\n",
    "c = int(input(\"Enter third number\"))\n",
    "\n",
    "if a > b and a > c:\n",
    "    print(f\"{a} is largest number\")\n",
    "elif b > a and b > c:\n",
    "    print(f\"{b} is largest number\")\n",
    "else:\n",
    "    print(f\"{c} is largest number\")"
   ]
  },
  {
   "cell_type": "code",
   "execution_count": 2,
   "id": "f39aad70-e808-4c44-ac6a-51a1faeb5694",
   "metadata": {},
   "outputs": [
    {
     "name": "stdin",
     "output_type": "stream",
     "text": [
      "Enter a word to check if it is plaindrome or not civic\n"
     ]
    },
    {
     "name": "stdout",
     "output_type": "stream",
     "text": [
      "civic is palindrome\n"
     ]
    }
   ],
   "source": [
    "## 9. Create a program that checks if a given string is a palindrome.\n",
    "\n",
    "word = input(\"Enter a word to check if it is plaindrome or not\")\n",
    "\n",
    "if word == word[::-1]:\n",
    "    print(f\"{word} is palindrome\")\n",
    "else:\n",
    "    print(f\"{word} is not a palindrome\")"
   ]
  },
  {
   "cell_type": "code",
   "execution_count": 4,
   "id": "cf0563f8-461d-4264-aca4-e30615feaab2",
   "metadata": {},
   "outputs": [
    {
     "name": "stdin",
     "output_type": "stream",
     "text": [
      "Enter student's score 65\n"
     ]
    },
    {
     "name": "stdout",
     "output_type": "stream",
     "text": [
      "C\n"
     ]
    }
   ],
   "source": [
    "## 10. Write a Python program to calculate the grade based on a student's score.\n",
    "\n",
    "score = input(\"Enter student's score\")\n",
    "\n",
    "if int(score) >= 90:\n",
    "    print('A')\n",
    "elif int(score) >= 80 and int(score) < 90:\n",
    "    print('B')\n",
    "else:\n",
    "    print('C')\n",
    "\n"
   ]
  },
  {
   "cell_type": "code",
   "execution_count": 24,
   "id": "d29c6d7f-352d-40d5-ba64-76d4c337f7e3",
   "metadata": {},
   "outputs": [
    {
     "name": "stdin",
     "output_type": "stream",
     "text": [
      "Enter first number 5\n",
      "Enter second number 12\n",
      "Enter third number 2\n"
     ]
    },
    {
     "name": "stdout",
     "output_type": "stream",
     "text": [
      "12 is largest number\n"
     ]
    }
   ],
   "source": [
    "## 11. Write a program to find the largest among three numbers using nested if-else statements.\n",
    "\n",
    "a = int(input(\"Enter first number\"))\n",
    "b = int(input(\"Enter second number\"))\n",
    "c = int(input(\"Enter third number\"))\n",
    "\n",
    "if a > b and a > c:\n",
    "    print(f\"{a} is largest number\")\n",
    "elif b > a and b > c:\n",
    "    print(f\"{b} is largest number\")\n",
    "else:\n",
    "    print(f\"{c} is largest number\")"
   ]
  },
  {
   "cell_type": "code",
   "execution_count": 1,
   "id": "ee707e34-a97e-456c-98a2-5da464077626",
   "metadata": {},
   "outputs": [
    {
     "name": "stdin",
     "output_type": "stream",
     "text": [
      "enter length of triangle's first side 1\n",
      "enter length of triangle's second side 2\n",
      "enter length of triangle's third side 3\n"
     ]
    },
    {
     "name": "stdout",
     "output_type": "stream",
     "text": [
      "Triangle is scalene\n"
     ]
    }
   ],
   "source": [
    "## 12. Implement a program to determine if a triangle is equilateral, isosceles, or scalene.\n",
    "\n",
    "a, b, c = int(input(\"enter length of triangle's first side\")), int(input(\"enter length of triangle's second side\")), int(input(\"enter length of triangle's third side\"))\n",
    "\n",
    "\n",
    "if a == b and b == c and a == c:\n",
    "    print('Triangle is equilateral')\n",
    "elif (a == b and a != c and b != c) or (b == c and a != c and a != b) or (a == c and a != b and b != c):\n",
    "    print('Trianle is isosceles')\n",
    "else:\n",
    "    print('Triangle is scalene')"
   ]
  },
  {
   "cell_type": "code",
   "execution_count": 2,
   "id": "d73a2315-db2f-4e58-b0b9-c1da0da5786e",
   "metadata": {},
   "outputs": [
    {
     "name": "stdin",
     "output_type": "stream",
     "text": [
      "Enter a year to check if that is a leap year 1900\n"
     ]
    },
    {
     "name": "stdout",
     "output_type": "stream",
     "text": [
      "1900 is not a leap year\n"
     ]
    }
   ],
   "source": [
    "## 13. Develop a program that checks if a year is a leap year and also if it is a century year.\n",
    "\n",
    "year = int(input(\"Enter a year to check if that is a leap year\"))\n",
    "  \n",
    "if year % 100 != 0 and year % 4 == 0:\n",
    "           print(f\" {year} is leap year\")\n",
    "elif year % 100 == 0 and year % 400 == 0:\n",
    "           print(f\"{year} is leap year\")\n",
    "else:\n",
    "           print(f\"{year} is not a leap year\")"
   ]
  },
  {
   "cell_type": "code",
   "execution_count": 3,
   "id": "fc6af7ce-2bf8-4181-86f2-bddf95e3c8b4",
   "metadata": {},
   "outputs": [
    {
     "name": "stdin",
     "output_type": "stream",
     "text": [
      "Enter a number -5\n"
     ]
    },
    {
     "name": "stdout",
     "output_type": "stream",
     "text": [
      "-5 is negative\n"
     ]
    }
   ],
   "source": [
    "## 14. Write a Python script to determine if a number is positive, negative, or zero.\n",
    "\n",
    "num = int(input(\"Enter a number\"))\n",
    "  \n",
    "if num > 0:\n",
    "    print(f\" {num} is positive\")\n",
    "elif num <0:\n",
    "    print(f\"{num} is negative\")\n",
    "else:\n",
    "    print(f\"{num} is zero\")"
   ]
  },
  {
   "cell_type": "code",
   "execution_count": 4,
   "id": "21ac6aed-299e-4143-afc4-a9e2ead22a98",
   "metadata": {},
   "outputs": [
    {
     "name": "stdin",
     "output_type": "stream",
     "text": [
      "Enter your age 15\n"
     ]
    },
    {
     "name": "stdout",
     "output_type": "stream",
     "text": [
      "Person is teenager\n"
     ]
    }
   ],
   "source": [
    "## 15. Create a program to check if a person is a teenager (between 13 and 19 years old).\n",
    "\n",
    "age = int(input(\"Enter your age\"))\n",
    "\n",
    "if age >= 13 and age <= 19:\n",
    "    print(\"Person is teenager\")\n",
    "else:\n",
    "    print(\"Person is not a teenager\")"
   ]
  },
  {
   "cell_type": "code",
   "execution_count": 5,
   "id": "bf28e5ed-20f7-46e3-ac2c-7c6d0fe29309",
   "metadata": {},
   "outputs": [
    {
     "name": "stdin",
     "output_type": "stream",
     "text": [
      "Enter angle 90\n"
     ]
    },
    {
     "name": "stdout",
     "output_type": "stream",
     "text": [
      "90 angle is right\n"
     ]
    }
   ],
   "source": [
    "## 16. Develop a program that determines the type of angle based on its measure (acute, obtuse, or right).\n",
    "\n",
    "angle = int(input(\"Enter angle\"))\n",
    "  \n",
    "if angle > 90:\n",
    "    print(f\" {angle} angle is obtuse\")\n",
    "elif angle < 90:\n",
    "    print(f\"{angle} angle is acute\")\n",
    "else:\n",
    "    print(f\"{angle} angle is right\")"
   ]
  },
  {
   "cell_type": "code",
   "execution_count": 8,
   "id": "9084f290-6da8-4a1c-9cd8-cc54f6ee472a",
   "metadata": {},
   "outputs": [
    {
     "name": "stdin",
     "output_type": "stream",
     "text": [
      "Enter coefficient a:  5\n",
      "Enter coefficient b:  2\n",
      "Enter coefficient c:  4\n"
     ]
    },
    {
     "name": "stdout",
     "output_type": "stream",
     "text": [
      "The roots are complex and different.\n",
      "Root 1: -0.2 + 0.8717797887081348i\n",
      "Root 2: -0.2 - 0.8717797887081348i\n"
     ]
    }
   ],
   "source": [
    "## 17. Write a Python program to calculate the roots of a quadratic equation.\n",
    "\n",
    "import math\n",
    "\n",
    "# Input coefficients\n",
    "a = float(input(\"Enter coefficient a: \"))\n",
    "b = float(input(\"Enter coefficient b: \"))\n",
    "c = float(input(\"Enter coefficient c: \"))\n",
    "\n",
    "# Calculate the discriminant\n",
    "delta = b * b - 4 * a * c\n",
    "\n",
    "# Calculate roots based on the discriminant\n",
    "if delta > 0:\n",
    "    root1 = (-b + math.sqrt(delta)) / (2 * a)\n",
    "    root2 = (-b - math.sqrt(delta)) / (2 * a)\n",
    "    print(\"The roots are real and different.\")\n",
    "    print(f\"Root 1: {root1}\")\n",
    "    print(f\"Root 2: {root2}\")\n",
    "elif delta == 0:\n",
    "    root = -b / (2 * a)\n",
    "    print(\"The root is real and the same.\")\n",
    "    print(f\"Root: {root}\")\n",
    "else:\n",
    "    real_part = -b / (2 * a)\n",
    "    imaginary_part = math.sqrt(-delta) / (2 * a)\n",
    "    print(\"The roots are complex and different.\")\n",
    "    print(f\"Root 1: {real_part} + {imaginary_part}i\")\n",
    "    print(f\"Root 2: {real_part} - {imaginary_part}i\")"
   ]
  },
  {
   "cell_type": "code",
   "execution_count": 7,
   "id": "282d0fe9-f703-44f0-b2dd-00386c79a413",
   "metadata": {},
   "outputs": [
    {
     "name": "stdin",
     "output_type": "stream",
     "text": [
      "Provide a code between 1-7 to determine today is which day of the week 5\n"
     ]
    },
    {
     "name": "stdout",
     "output_type": "stream",
     "text": [
      "Today is Friday\n"
     ]
    }
   ],
   "source": [
    "## 18. Implement a program to determine the day of the week based on a user-provided number (1 for Monday, 2 for Tuesday, etc.).\n",
    "\n",
    "code =  int(input(\"Provide a code between 1-7 to determine today is which day of the week\"))\n",
    "\n",
    "if code == 1:\n",
    "    print(\"Today is Monday\")\n",
    "elif code == 2:\n",
    "    print(\"Today is Tuesday\")\n",
    "elif code == 3:\n",
    "    print(\"Today is Wednesday\")\n",
    "elif code == 4:\n",
    "    print(\"Today is Thursday\")\n",
    "elif code == 5:\n",
    "    print(\"Today is Friday\")\n",
    "elif code == 6:\n",
    "    print(\"Today is Saturday\")\n",
    "elif code == 7:\n",
    "    print(\"Today is Sunday\")\n",
    "    "
   ]
  },
  {
   "cell_type": "code",
   "execution_count": 8,
   "id": "355ae20b-976a-45f4-acaf-9e8866019aad",
   "metadata": {},
   "outputs": [
    {
     "name": "stdin",
     "output_type": "stream",
     "text": [
      "Enter a year to check if that is a leap year 2000\n"
     ]
    },
    {
     "name": "stdout",
     "output_type": "stream",
     "text": [
      "2000 is leap year\n"
     ]
    }
   ],
   "source": [
    "## 19. Create a program that determines if a year is a leap year and also if it is evenly divisible by 400.\n",
    "\n",
    "year = int(input(\"Enter a year to check if that is a leap year\"))\n",
    "  \n",
    "if year % 100 != 0 and year % 4 == 0:\n",
    "           print(f\" {year} is leap year\")\n",
    "elif year % 100 == 0 and year % 400 == 0:\n",
    "           print(f\"{year} is leap year\")\n",
    "else:\n",
    "           print(f\"{year} is not a leap year\")"
   ]
  },
  {
   "cell_type": "code",
   "execution_count": 40,
   "id": "7bead652-ffe8-48da-95e5-ff34441039d1",
   "metadata": {},
   "outputs": [
    {
     "name": "stdin",
     "output_type": "stream",
     "text": [
      "Enter a number 12\n"
     ]
    },
    {
     "name": "stdout",
     "output_type": "stream",
     "text": [
      "12 is not a prime number\n",
      "12 is not a prime number\n"
     ]
    }
   ],
   "source": [
    "## 20. Develop a program that checks if a given number is prime or not using nested if-else statements.\n",
    "\n",
    "num = int(input(\"Enter a number\"))\n",
    "\n",
    "if num == 1 or num == 2:\n",
    "    print(f\"{num} is prime number\")\n",
    "elif num > 2:\n",
    "##    is_prime = True\n",
    "    for i in range(2,int(num ** 0.5) + 1):\n",
    "        if num % i == 0:\n",
    "##            is_prime = False\n",
    "            print(f\"{num} is not a prime number\")\n",
    "        else:\n",
    "            print(f\"{num} is prime number\")"
   ]
  },
  {
   "cell_type": "code",
   "execution_count": null,
   "id": "040c2f2c-9c6f-40c9-9d87-d52cefb47400",
   "metadata": {},
   "outputs": [],
   "source": []
  },
  {
   "cell_type": "code",
   "execution_count": 15,
   "id": "7db02bc3-3a8e-4088-9f6c-d918a6be9d7f",
   "metadata": {},
   "outputs": [
    {
     "name": "stdin",
     "output_type": "stream",
     "text": [
      "Enter your score:  75\n"
     ]
    },
    {
     "name": "stdout",
     "output_type": "stream",
     "text": [
      "You got B\n"
     ]
    }
   ],
   "source": [
    "## 21. Write a Python program to assign grades based on different ranges of scores using elif statements.\n",
    "\n",
    "score = int(input(\"Enter your score: \"))\n",
    "\n",
    "if score in range(95, 101, 1):\n",
    "    print(\"You got A+\")\n",
    "elif score in range(80,95,1):\n",
    "    print(\"You got A\")\n",
    "else:\n",
    "    print(\"You got B\")"
   ]
  },
  {
   "cell_type": "code",
   "execution_count": 16,
   "id": "3222143d-24d9-4c60-9f54-ff2889cea459",
   "metadata": {},
   "outputs": [
    {
     "name": "stdin",
     "output_type": "stream",
     "text": [
      "enter degree of triangle's first angle 45\n",
      "enter degree of triangle's second angle 70\n",
      "enter degree of triangle's third angle 45\n"
     ]
    },
    {
     "name": "stdout",
     "output_type": "stream",
     "text": [
      "Triangle is acute\n"
     ]
    }
   ],
   "source": [
    "## 22. Implement a program to determine the type of a triangle based on its angles.\n",
    "\n",
    "a, b, c = int(input(\"enter degree of triangle's first angle\")), int(input(\"enter degree of triangle's second angle\")), int(input(\"enter degree of triangle's third angle\"))\n",
    "\n",
    "if a == 90 or b == 90 or c == 90:\n",
    "    print(\"Triangle is Right-angled\")\n",
    "elif a < 90 and b < 90 and c < 90:\n",
    "    print(\"Triangle is acute\")\n",
    "else:\n",
    "    print(\"Triangle in obtuse\")"
   ]
  },
  {
   "cell_type": "code",
   "execution_count": 18,
   "id": "7a4c59f2-8b6d-4fa5-a00c-0536bdab318f",
   "metadata": {},
   "outputs": [
    {
     "name": "stdin",
     "output_type": "stream",
     "text": [
      "Enter your Body Mass Index 24.3\n"
     ]
    },
    {
     "name": "stdout",
     "output_type": "stream",
     "text": [
      "normal\n"
     ]
    }
   ],
   "source": [
    "## 23. Develop a program to categorize a given person's BMI into underweight, normal, overweight, or obese using elif statements.\n",
    "\n",
    "BMI = float(input(\"Enter your Body Mass Index\"))\n",
    "\n",
    "if BMI <= 18.5:\n",
    "    print(\"Underweight\")\n",
    "elif BMI > 18.5 and BMI <= 24.9:\n",
    "    print(\"normal\")\n",
    "elif BMI > 25 and BMI <= 29.9:\n",
    "    print(\"overweight\")\n",
    "else:\n",
    "    print(\"obese\")  \n",
    "\n"
   ]
  },
  {
   "cell_type": "code",
   "execution_count": 19,
   "id": "8acb4c43-c7dc-473f-91f0-2a20590736de",
   "metadata": {},
   "outputs": [
    {
     "name": "stdin",
     "output_type": "stream",
     "text": [
      "Enter a number -10\n"
     ]
    },
    {
     "name": "stdout",
     "output_type": "stream",
     "text": [
      "-10 is negative\n"
     ]
    }
   ],
   "source": [
    "## 24. Create a program that determines whether a given number is positive, negative, or zero using elif statements.\n",
    "\n",
    "num = int(input(\"Enter a number\"))\n",
    "  \n",
    "if num > 0:\n",
    "    print(f\" {num} is positive\")\n",
    "elif num <0:\n",
    "    print(f\"{num} is negative\")\n",
    "else:\n",
    "    print(f\"{num} is zero\")"
   ]
  },
  {
   "cell_type": "code",
   "execution_count": 6,
   "id": "e43481d6-0d74-4179-a59b-0f733a43dcf1",
   "metadata": {},
   "outputs": [
    {
     "name": "stdin",
     "output_type": "stream",
     "text": [
      "Enter a character to determine whether that is uppercase, lowercase, or special ?\n"
     ]
    },
    {
     "name": "stdout",
     "output_type": "stream",
     "text": [
      "Special Character\n"
     ]
    }
   ],
   "source": [
    "## 25. Write a Python script to determine the type of a character (uppercase, lowercase, or special) using elif statements.\n",
    "\n",
    "char = input(\"Enter a character to determine whether that is uppercase, lowercase, or special\")\n",
    "\n",
    "if char.isupper():\n",
    "    print('Uppercase')\n",
    "elif char.islower():\n",
    "    print('Lowercase')\n",
    "elif char.isdigit():\n",
    "    print('digit')\n",
    "elif not char.isalpha():\n",
    "    print('Special Character')"
   ]
  },
  {
   "cell_type": "code",
   "execution_count": 8,
   "id": "0870d876-6e87-4835-8bbd-8aa5207e2a00",
   "metadata": {},
   "outputs": [
    {
     "name": "stdin",
     "output_type": "stream",
     "text": [
      "Enter your purchase amount to determing discount 85\n"
     ]
    },
    {
     "name": "stdout",
     "output_type": "stream",
     "text": [
      "You will get 5% discount: Total $4.25 amount\n"
     ]
    }
   ],
   "source": [
    "## 26. Implement a program to calculate the discounted price based on different purchase amounts using elif statements.\n",
    "\n",
    "x = int(input(\"Enter your purchase amount to determing discount\"))\n",
    "\n",
    "if x >= 100:\n",
    "    discount = x * 0.1\n",
    "    print(f\"You will get 10% discount: Total ${discount} amount\")\n",
    "elif  x >= 80 and x < 100:\n",
    "    discount = x * 0.05\n",
    "    print(f\"You will get 5% discount: Total ${discount} amount\")\n",
    "else:\n",
    "    print(f\"Sorry, you will not get any discount\")"
   ]
  },
  {
   "cell_type": "code",
   "execution_count": 10,
   "id": "47b6da0a-ea1e-4e62-9757-be0ca62528cb",
   "metadata": {},
   "outputs": [
    {
     "name": "stdin",
     "output_type": "stream",
     "text": [
      "Tell us your electricity consumption 2500\n"
     ]
    },
    {
     "name": "stdout",
     "output_type": "stream",
     "text": [
      "Your Total bill is = $1250.0\n"
     ]
    }
   ],
   "source": [
    "## 27. Develop a program to calculate the electricity bill based on different consumption slabs using elif statements.\n",
    "\n",
    "cons = int(input('Tell us your electricity consumption'))\n",
    "\n",
    "if cons >= 1000:\n",
    "    price = 0.5\n",
    "    total_bill = cons * price\n",
    "    print(f\"Your Total bill is = ${total_bill}\")\n",
    "    \n",
    "elif cons < 1000:\n",
    "    price = 0.2\n",
    "    total_bill = cons * price\n",
    "    print(f\"Your Total bill is = ${total_bill}\")\n",
    "\n"
   ]
  },
  {
   "cell_type": "code",
   "execution_count": 11,
   "id": "45f4ad40-8cc0-4a3b-af1a-2f5a8935a2f3",
   "metadata": {},
   "outputs": [
    {
     "name": "stdout",
     "output_type": "stream",
     "text": [
      "Sides: [5, 5, 5, 5], Angles: [90, 90, 90, 90] -> Classification: Square\n",
      "Sides: [4, 6, 4, 6], Angles: [90, 90, 90, 90] -> Classification: Rectangle\n",
      "Sides: [3, 3, 3, 3], Angles: [120, 60, 120, 60] -> Classification: Rhombus\n",
      "Sides: [4, 5, 4, 5], Angles: [100, 80, 100, 80] -> Classification: Parallelogram\n",
      "Sides: [3, 5, 3, 6], Angles: [90, 90, 100, 80] -> Classification: Other Quadrilateral\n",
      "Sides: [4, 4, 6, 6], Angles: [120, 60, 120, 60] -> Classification: Kite\n"
     ]
    }
   ],
   "source": [
    "## 28. Create a program to determine the type of quadrilateral based on its angles and sides using elif statements.\n",
    "\n",
    "sides_list = [\n",
    "    ([5, 5, 5, 5], [90, 90, 90, 90]), # Square\n",
    "    ([4, 6, 4, 6], [90, 90, 90, 90]), # Rectangle\n",
    "    ([3, 3, 3, 3], [120, 60, 120, 60]), # Rhombus\n",
    "    ([4, 5, 4, 5], [100, 80, 100, 80]), # Parallelogram\n",
    "    ([3, 5, 3, 6], [90, 90, 100, 80]), # Trapezoid\n",
    "    ([4, 4, 6, 6], [120, 60, 120, 60]), # Kite\n",
    "]\n",
    "\n",
    "for sides, angles in sides_list:\n",
    "    a, b, c, d = sides\n",
    "    A, B, C, D = angles\n",
    "    \n",
    "    if len(set(sides)) == 1 and all(angle == 90 for angle in angles):\n",
    "        classification = \"Square\"\n",
    "    elif len(set(sides[::2])) == 1 and len(set(sides[1::2])) == 1 and all(angle == 90 for angle in angles):\n",
    "        classification = \"Rectangle\"\n",
    "    elif len(set(sides)) == 1:\n",
    "        classification = \"Rhombus\"\n",
    "    elif a == c and b == d and A == C and B == D:\n",
    "        classification = \"Parallelogram\"\n",
    "    elif (A == 90 and C == 90 and B != D) or (B == 90 and D == 90 and A != C):\n",
    "        classification = \"Trapezoid\"\n",
    "    elif a == b and c == d or a == d and b == c:\n",
    "        classification = \"Kite\"\n",
    "    else:\n",
    "        classification = \"Other Quadrilateral\"\n",
    "    \n",
    "    print(f\"Sides: {sides}, Angles: {angles} -> Classification: {classification}\")"
   ]
  },
  {
   "cell_type": "code",
   "execution_count": 14,
   "id": "9b2d1a42-130e-4bc6-a1af-d166eabf4f63",
   "metadata": {},
   "outputs": [
    {
     "name": "stdin",
     "output_type": "stream",
     "text": [
      "Enter Number of Month 4\n"
     ]
    },
    {
     "name": "stdout",
     "output_type": "stream",
     "text": [
      "Winter Season\n"
     ]
    }
   ],
   "source": [
    "## 29. Write a Python script to determine the season based on a user-provided month using elif statements.\n",
    "\n",
    "month_num = int(input(\"Enter Number of Month\"))\n",
    "\n",
    "if month_num >= 1 and month_num <= 4:\n",
    "    print('Winter Season')\n",
    "elif month_num >= 5 and month_num <= 8:\n",
    "    print('Summer Season')\n",
    "else:\n",
    "    print('Monsoon Season')"
   ]
  },
  {
   "cell_type": "code",
   "execution_count": 15,
   "id": "e70c0986-e0b7-4a3a-90ff-68e6bb5d2b45",
   "metadata": {},
   "outputs": [
    {
     "name": "stdin",
     "output_type": "stream",
     "text": [
      "Enter the year:  2024\n",
      "Enter the month name:  February\n"
     ]
    },
    {
     "name": "stdout",
     "output_type": "stream",
     "text": [
      "2024 is a Leap year.\n",
      "February has 29 days.\n"
     ]
    }
   ],
   "source": [
    "## 30. Implement a program to determine the type of a year (leap or common) and month (30 or 31 days) using elif statements.\n",
    "\n",
    "year = int(input(\"Enter the year: \"))\n",
    "month_name = input(\"Enter the month name: \").capitalize()\n",
    "\n",
    "if (year % 4 == 0 and year % 100 != 0) or (year % 400 == 0):\n",
    "    year_type = \"Leap year\"\n",
    "else:\n",
    "    year_type = \"Common year\"\n",
    "\n",
    "if month_name in [\"April\", \"June\", \"September\", \"November\"]:\n",
    "    days = 30\n",
    "elif month_name in [\"January\", \"March\", \"May\", \"July\", \"August\", \"October\", \"December\"]:\n",
    "    days = 31\n",
    "elif month_name == \"February\":\n",
    "    if year_type == \"Leap year\":\n",
    "        days = 29\n",
    "    else:\n",
    "        days = 28\n",
    "else:\n",
    "    days = None \n",
    "\n",
    "if days:\n",
    "    print(f\"{year} is a {year_type}.\")\n",
    "    if days == 28:\n",
    "        print(f\"February has 28 days (or 29 days in a leap year).\")\n",
    "    else:\n",
    "        print(f\"{month_name} has {days} days.\")\n",
    "else:\n",
    "    print(\"Invalid month name.\")\n",
    "        "
   ]
  },
  {
   "cell_type": "markdown",
   "id": "7f914b75-2895-417f-b05d-86dac91d7ad8",
   "metadata": {},
   "source": [
    "1. Write a Python program that checks if a given number is positive, negative, or zero.\n",
    "2. Create a program to determine if a person is eligible to vote based on their age.\n",
    "3. Write a program to find the maximum of two given numbers using conditional statements.\n",
    "4. Develop a program that calculates the grade of a student based on their exam score.\n",
    "5. Create a program that checks if a year is a leap year or not.\n",
    "6. Write a program to classify a triangle based on its sides' lengths.\n",
    "7. Build a program that determines the largest of three given numbers.\n",
    "8. Develop a program that checks whether a character is a vowel or a consonant.\n",
    "9. Create a program to calculate the total cost of a shopping cart based on discounts.\n",
    "10. Write a program that checks if a given number is even or odd."
   ]
  },
  {
   "cell_type": "code",
   "execution_count": 18,
   "id": "92c34005-ff36-4de2-9dd3-046619fd4a99",
   "metadata": {},
   "outputs": [
    {
     "name": "stdin",
     "output_type": "stream",
     "text": [
      "Enter a number to decide if that is positive, negative, or zero -5\n"
     ]
    },
    {
     "name": "stdout",
     "output_type": "stream",
     "text": [
      "-5 is negative\n"
     ]
    }
   ],
   "source": [
    "##1\n",
    "\n",
    "num = int(input('Enter a number to decide if that is positive, negative, or zero'))\n",
    "\n",
    "if num > 0:\n",
    "    print(f\"{num} is positive\")\n",
    "elif num < 0:\n",
    "    print(f\"{num} is negative\")\n",
    "else:\n",
    "    print(f\"{num} is zero\")"
   ]
  },
  {
   "cell_type": "code",
   "execution_count": 19,
   "id": "f19a3593-3900-4743-be74-ae36f10d3fff",
   "metadata": {},
   "outputs": [
    {
     "name": "stdin",
     "output_type": "stream",
     "text": [
      "Enter your age to check your voter eligibiliy 25\n"
     ]
    },
    {
     "name": "stdout",
     "output_type": "stream",
     "text": [
      "You are eligible to vote\n"
     ]
    }
   ],
   "source": [
    "##2\n",
    "\n",
    "age = int(input(\"Enter your age to check your voter eligibiliy\"))\n",
    "\n",
    "if age >= 18:\n",
    "    print('You are eligible to vote')\n",
    "else:\n",
    "    print('You are not eligible to vote')"
   ]
  },
  {
   "cell_type": "code",
   "execution_count": 21,
   "id": "896d8127-0262-4281-80ca-b6d9425fd6cb",
   "metadata": {},
   "outputs": [
    {
     "name": "stdin",
     "output_type": "stream",
     "text": [
      "Enter first number 4\n",
      "Enter second number 5\n"
     ]
    },
    {
     "name": "stdout",
     "output_type": "stream",
     "text": [
      "5 is max number amongst two\n"
     ]
    }
   ],
   "source": [
    "##3\n",
    "\n",
    "a,b = int(input('Enter first number')), int(input('Enter second number'))\n",
    "\n",
    "if a > b:\n",
    "    print(f\"{a} is max number amongst two\")\n",
    "elif a < b:\n",
    "    print(f\"{b} is max number amongst two\")\n",
    "else:\n",
    "    print('both are equal')"
   ]
  },
  {
   "cell_type": "code",
   "execution_count": 22,
   "id": "49f967cb-6170-42e2-abbc-7f151f1277cd",
   "metadata": {},
   "outputs": [
    {
     "name": "stdin",
     "output_type": "stream",
     "text": [
      "Enter your score 96\n"
     ]
    },
    {
     "name": "stdout",
     "output_type": "stream",
     "text": [
      "You received A+\n"
     ]
    }
   ],
   "source": [
    "##4\n",
    "\n",
    "score = int(input('Enter your score'))\n",
    "\n",
    "if score >= 95:\n",
    "    print('You received A+')\n",
    "elif score >= 85 and score < 95:\n",
    "    print('You received A')\n",
    "elif score >= 75 and score < 85:\n",
    "    print('You received B')\n",
    "else:\n",
    "    print('You received C')"
   ]
  },
  {
   "cell_type": "code",
   "execution_count": 23,
   "id": "0ab634c1-4e94-4fef-938b-262d81dd3c29",
   "metadata": {},
   "outputs": [
    {
     "name": "stdin",
     "output_type": "stream",
     "text": [
      "Enter a year 2024\n"
     ]
    },
    {
     "name": "stdout",
     "output_type": "stream",
     "text": [
      "2024 is leap year\n"
     ]
    }
   ],
   "source": [
    "##5\n",
    "\n",
    "year = int(input('Enter a year'))\n",
    "\n",
    "if (year % 4 == 0 and year % 100 != 0) or year % 400 == 0:\n",
    "    print(f\"{year} is leap year\")\n",
    "else:\n",
    "    print(f\"{year} is common year\")"
   ]
  },
  {
   "cell_type": "code",
   "execution_count": 24,
   "id": "2d823e99-b61e-4af5-827a-11af8b2b10f5",
   "metadata": {},
   "outputs": [
    {
     "name": "stdin",
     "output_type": "stream",
     "text": [
      "Enter length of first side 5\n",
      "Enter length of second side 5\n",
      "Enter length of third side 5\n"
     ]
    },
    {
     "name": "stdout",
     "output_type": "stream",
     "text": [
      "Triangle is equilateral\n"
     ]
    }
   ],
   "source": [
    "##6\n",
    "\n",
    "a,b,c = int(input('Enter length of first side')), int(input('Enter length of second side')), int(input('Enter length of third side'))\n",
    "\n",
    "if a == b and b == c and a == c:\n",
    "    print('Triangle is equilateral')\n",
    "elif (a == b and a != c and b != c) or (b == c and a != c and a != b) or (a == c and a != b and b != c):\n",
    "    print('Trianle is isosceles')\n",
    "else:\n",
    "    print('Triangle is scalene')\n"
   ]
  },
  {
   "cell_type": "code",
   "execution_count": 25,
   "id": "a988873d-285d-41e0-92e1-91d0ac8bf0bb",
   "metadata": {},
   "outputs": [
    {
     "name": "stdin",
     "output_type": "stream",
     "text": [
      "Enter first number 4\n",
      "Enter second number 5\n",
      "Enter third number 4\n"
     ]
    },
    {
     "name": "stdout",
     "output_type": "stream",
     "text": [
      "5 is max number\n"
     ]
    }
   ],
   "source": [
    "##7\n",
    "\n",
    "a,b,c = int(input('Enter first number')), int(input('Enter second number')), int(input('Enter third number'))\n",
    "\n",
    "if a > b and a > c:\n",
    "    print(f\"{a} is max number\")\n",
    "elif b > a and b > c:\n",
    "    print(f\"{b} is max number\")\n",
    "elif c > a and c > b:\n",
    "    print(f\"{c} is max number\")\n",
    "else:\n",
    "    print(f\"All numbers are equal\")"
   ]
  },
  {
   "cell_type": "code",
   "execution_count": 26,
   "id": "bd4a2f91-aeda-4934-9f61-b4f42427a43a",
   "metadata": {},
   "outputs": [
    {
     "name": "stdin",
     "output_type": "stream",
     "text": [
      "Enter a character a\n"
     ]
    },
    {
     "name": "stdout",
     "output_type": "stream",
     "text": [
      "a is vowel\n"
     ]
    }
   ],
   "source": [
    "##8\n",
    "\n",
    "char = input('Enter a character')\n",
    "\n",
    "vowel = 'aeiouAEIOU'\n",
    "\n",
    "if char in list(vowel):\n",
    "    print(f\"{char} is vowel\")\n",
    "else:\n",
    "    print(f\"{char} is consonant\")\n"
   ]
  },
  {
   "cell_type": "code",
   "execution_count": 5,
   "id": "6bfcba29-161d-4dbf-b69d-cc50dbe61b3b",
   "metadata": {},
   "outputs": [
    {
     "name": "stdin",
     "output_type": "stream",
     "text": [
      "Enter total cart price 50\n"
     ]
    },
    {
     "name": "stdout",
     "output_type": "stream",
     "text": [
      "Total Shopping Cart Price: $45.0\n"
     ]
    }
   ],
   "source": [
    "##9\n",
    "\n",
    "total_cart_price = int(input('Enter total cart price'))\n",
    "\n",
    "discount = 0.1\n",
    "\n",
    "x = total_cart_price - (total_cart_price * discount)\n",
    "\n",
    "print(f\"Total Shopping Cart Price: ${x}\")\n"
   ]
  },
  {
   "cell_type": "code",
   "execution_count": 6,
   "id": "fb416c66-338f-4f97-a8de-fe10407df055",
   "metadata": {},
   "outputs": [
    {
     "name": "stdin",
     "output_type": "stream",
     "text": [
      "Enter a number 5\n"
     ]
    },
    {
     "name": "stdout",
     "output_type": "stream",
     "text": [
      "5 is odd number\n"
     ]
    }
   ],
   "source": [
    "## 10\n",
    "\n",
    "num = int(input('Enter a number'))\n",
    "\n",
    "if num % 2 == 0:\n",
    "    print(f\"{num} is even number\")\n",
    "else:\n",
    "    print(f\"{num} is odd number\")"
   ]
  },
  {
   "cell_type": "markdown",
   "id": "d6aef384-68da-43ef-b117-14a8db249893",
   "metadata": {},
   "source": [
    "11. Write a program that calculates the roots of a quadratic equation .\n",
    "12. Create a program that determines the day of the week based on the day number (1-7).\n",
    "13. Develop a program that calculates the factorial of a given number using recursion.\n",
    "14. Write a program to find the largest among three numbers without using the `max()` function.\n",
    "15. Create a program that simulates a basic ATM transaction menu.\n",
    "16. Build a program that checks if a given string is a palindrome or not.\n",
    "17. Write a program that calculates the average of a list of numbers, excluding the smallest and largest values.\n",
    "18. Develop a program that converts a given temperature from Celsius to Fahrenheit.\n",
    "19. Create a program that simulates a basic calculator for addition, subtraction, multiplication, and division.\n",
    "20. Write a program that determines the roots of a cubic equation using the Cardano formula."
   ]
  },
  {
   "cell_type": "code",
   "execution_count": 9,
   "id": "3f6a9e55-1a0c-4a8e-9f97-84862cbd38d7",
   "metadata": {},
   "outputs": [
    {
     "name": "stdin",
     "output_type": "stream",
     "text": [
      "Enter coefficient a:  5\n",
      "Enter coefficient b:  5\n",
      "Enter coefficient c:  5\n"
     ]
    },
    {
     "name": "stdout",
     "output_type": "stream",
     "text": [
      "The roots are complex and different.\n",
      "Root 1: -0.5 + 0.8660254037844387i\n",
      "Root 2: -0.5 - 0.8660254037844387i\n"
     ]
    }
   ],
   "source": [
    "#11\n",
    "\n",
    "import math\n",
    "\n",
    "# Input coefficients\n",
    "a = float(input(\"Enter coefficient a: \"))\n",
    "b = float(input(\"Enter coefficient b: \"))\n",
    "c = float(input(\"Enter coefficient c: \"))\n",
    "\n",
    "# Calculate the discriminant\n",
    "delta = b * b - 4 * a * c\n",
    "\n",
    "# Calculate roots based on the discriminant\n",
    "if delta > 0:\n",
    "    root1 = (-b + math.sqrt(delta)) / (2 * a)\n",
    "    root2 = (-b - math.sqrt(delta)) / (2 * a)\n",
    "    print(\"The roots are real and different.\")\n",
    "    print(f\"Root 1: {root1}\")\n",
    "    print(f\"Root 2: {root2}\")\n",
    "elif delta == 0:\n",
    "    root = -b / (2 * a)\n",
    "    print(\"The root is real and the same.\")\n",
    "    print(f\"Root: {root}\")\n",
    "else:\n",
    "    real_part = -b / (2 * a)\n",
    "    imaginary_part = math.sqrt(-delta) / (2 * a)\n",
    "    print(\"The roots are complex and different.\")\n",
    "    print(f\"Root 1: {real_part} + {imaginary_part}i\")\n",
    "    print(f\"Root 2: {real_part} - {imaginary_part}i\")"
   ]
  },
  {
   "cell_type": "code",
   "execution_count": 8,
   "id": "6f6cda89-1b71-46e4-b4da-311345a630c2",
   "metadata": {},
   "outputs": [
    {
     "name": "stdin",
     "output_type": "stream",
     "text": [
      "Provide a code between 1-7 to determine today is which day of the week 5\n"
     ]
    },
    {
     "name": "stdout",
     "output_type": "stream",
     "text": [
      "Today is Friday\n"
     ]
    }
   ],
   "source": [
    "##12\n",
    "\n",
    "code =  int(input(\"Provide a code between 1-7 to determine today is which day of the week\"))\n",
    "\n",
    "if code == 1:\n",
    "    print(\"Today is Monday\")\n",
    "elif code == 2:\n",
    "    print(\"Today is Tuesday\")\n",
    "elif code == 3:\n",
    "    print(\"Today is Wednesday\")\n",
    "elif code == 4:\n",
    "    print(\"Today is Thursday\")\n",
    "elif code == 5:\n",
    "    print(\"Today is Friday\")\n",
    "elif code == 6:\n",
    "    print(\"Today is Saturday\")\n",
    "elif code == 7:\n",
    "    print(\"Today is Sunday\")"
   ]
  },
  {
   "cell_type": "code",
   "execution_count": 10,
   "id": "8588cdee-7bf7-4faf-8e72-fd7174888f0e",
   "metadata": {},
   "outputs": [
    {
     "name": "stdin",
     "output_type": "stream",
     "text": [
      "Enter a number 5\n"
     ]
    },
    {
     "name": "stdout",
     "output_type": "stream",
     "text": [
      "factorial of 5 = 120\n"
     ]
    }
   ],
   "source": [
    "## 13\n",
    "\n",
    "num = int(input(\"Enter a number\"))\n",
    "\n",
    "factorial = 1\n",
    "\n",
    "for i in range(1,num+1):\n",
    "    factorial = factorial * i\n",
    "print(f\"factorial of {num} = {factorial}\")"
   ]
  },
  {
   "cell_type": "code",
   "execution_count": 11,
   "id": "d1fdb32c-dc85-4b09-969f-2fba41b764d5",
   "metadata": {},
   "outputs": [
    {
     "name": "stdin",
     "output_type": "stream",
     "text": [
      "Enter first number 4\n",
      "Enter second number 5\n",
      "Enter third number 2\n"
     ]
    },
    {
     "name": "stdout",
     "output_type": "stream",
     "text": [
      "5 is max number\n"
     ]
    }
   ],
   "source": [
    "## 14\n",
    "\n",
    "a,b,c = int(input('Enter first number')), int(input('Enter second number')), int(input('Enter third number'))\n",
    "\n",
    "if a > b and a > c:\n",
    "    print(f\"{a} is max number\")\n",
    "elif b > a and b > c:\n",
    "    print(f\"{b} is max number\")\n",
    "elif c > a and c > b:\n",
    "    print(f\"{c} is max number\")\n",
    "else:\n",
    "    print(f\"All numbers are equal\")"
   ]
  },
  {
   "cell_type": "code",
   "execution_count": 14,
   "id": "2311d0fc-87b5-4ef2-af0d-3e248c78b7b0",
   "metadata": {},
   "outputs": [
    {
     "name": "stdin",
     "output_type": "stream",
     "text": [
      "Enter your balance 500\n",
      "Enter what you want to do? debit, credit, check balance check balance\n"
     ]
    },
    {
     "name": "stdout",
     "output_type": "stream",
     "text": [
      "Your Balance is $500\n"
     ]
    }
   ],
   "source": [
    "## 15\n",
    "\n",
    "bal = int(input('Enter your balance'))\n",
    "\n",
    "transaction_type = input(\"Enter what you want to do? debit, credit, check balance\")\n",
    "\n",
    "if transaction_type == 'debit':\n",
    "    amount = int(input(\"Enter amount that you want to debit\"))\n",
    "    bal = bal - amount\n",
    "    print(f\"After ${amount} is {transaction_type}: Remaining Balance ${bal}\")\n",
    "elif transaction_type == 'credit':\n",
    "    amount = int(input(\"Enter amount that you want to debit\"))\n",
    "    bal = bal + amount\n",
    "    print(f\"After ${amount} is {transaction_type}: Remaining Balance ${bal}\")\n",
    "elif transaction_type == 'check balance':\n",
    "    print(f\"Your Balance is ${bal}\")"
   ]
  },
  {
   "cell_type": "code",
   "execution_count": 15,
   "id": "76f02d0c-f3cf-446a-905c-0132af477a7e",
   "metadata": {},
   "outputs": [
    {
     "name": "stdin",
     "output_type": "stream",
     "text": [
      "Enter a word to check if that is palindrome lol\n"
     ]
    },
    {
     "name": "stdout",
     "output_type": "stream",
     "text": [
      "lol is palindrome\n"
     ]
    }
   ],
   "source": [
    "## 16\n",
    "\n",
    "word = input(\"Enter a word to check if that is palindrome\")\n",
    "\n",
    "if word == word[::-1]:\n",
    "    print(f\"{word} is palindrome\")\n",
    "else:\n",
    "    print(f\"{word} is not palindrome\")"
   ]
  },
  {
   "cell_type": "code",
   "execution_count": 25,
   "id": "9716eea5-b84b-4f80-baf9-013a2d927d23",
   "metadata": {},
   "outputs": [
    {
     "name": "stdout",
     "output_type": "stream",
     "text": [
      "5.5\n"
     ]
    }
   ],
   "source": [
    "## 17\n",
    "\n",
    "a = list(range(1,11,1))\n",
    "\n",
    "b = a.remove(min(a))\n",
    "a.remove(max(a))\n",
    "\n",
    "x = 0\n",
    "\n",
    "for i in a:\n",
    "    x = x + i\n",
    "    \n",
    "y = x / len(a)\n",
    "\n",
    "print(y)"
   ]
  },
  {
   "cell_type": "code",
   "execution_count": 26,
   "id": "e79da7d0-e348-4896-b6a3-e5c2993aae08",
   "metadata": {},
   "outputs": [
    {
     "name": "stdin",
     "output_type": "stream",
     "text": [
      "Enter Temp in Celcius to conver to Ferenhit 20\n"
     ]
    },
    {
     "name": "stdout",
     "output_type": "stream",
     "text": [
      "68.0\n"
     ]
    }
   ],
   "source": [
    "## 18\n",
    "\n",
    "deg = int(input(\"Enter Temp in Celcius to conver to Ferenhit\"))\n",
    "\n",
    "F = (deg * (9/5)) + 32\n",
    "\n",
    "print(F)\n"
   ]
  },
  {
   "cell_type": "code",
   "execution_count": 27,
   "id": "3a497aa5-c30e-4cba-814d-2cd088fdda15",
   "metadata": {},
   "outputs": [
    {
     "name": "stdin",
     "output_type": "stream",
     "text": [
      "Enter first number 2\n",
      "Enter second number 3\n",
      "Enter what you want to do? add, sub, mult, div div\n"
     ]
    },
    {
     "name": "stdout",
     "output_type": "stream",
     "text": [
      "After div of 2 and 3: 0.6666666666666666\n"
     ]
    }
   ],
   "source": [
    "##19\n",
    "\n",
    "a,b = int(input('Enter first number')), int(input('Enter second number'))\n",
    "\n",
    "calc_type = input(\"Enter what you want to do? add, sub, mult, div\")\n",
    "\n",
    "if calc_type == 'add':\n",
    "    c = a + b\n",
    "    print(f\"After {calc_type} of {a} and {b}: {c}\")\n",
    "elif calc_type == 'sub':\n",
    "    c = a - b\n",
    "    print(f\"After {calc_type} of {a} and {b}: {c}\")\n",
    "elif calc_type == 'mult':\n",
    "    c = a * b\n",
    "    print(f\"After {calc_type} of {a} and {b}: {c}\")\n",
    "elif calc_type == 'div':\n",
    "    c = a / b\n",
    "    print(f\"After {calc_type} of {a} and {b}: {c}\")"
   ]
  },
  {
   "cell_type": "code",
   "execution_count": 28,
   "id": "0d95d141-aade-42bb-b73b-21e289816c40",
   "metadata": {},
   "outputs": [],
   "source": [
    "# 20\n",
    "\n"
   ]
  },
  {
   "cell_type": "markdown",
   "id": "5df138ca-e0dd-49e3-aff4-4f363be9423d",
   "metadata": {},
   "source": [
    "21. Create a program that calculates the income tax based on the user's income and tax brackets.\n",
    "22. Write a program that simulates a rock-paper-scissors game against the computer.\n",
    "23. Develop a program that generates a random password based on user preferences (length, complexity).\n",
    "24. Create a program that implements a simple text-based adventure game with branching scenarios.\n",
    "25. Build a program that solves a linear equation for x, considering different cases.\n",
    "26. Write a program that simulates a basic quiz game with multiple-choice questions and scoring.\n",
    "27. Develop a program that determines whether a given year is a prime number or not.\n",
    "28. Create a program that sorts three numbers in ascending order using conditional statements.\n",
    "29. Build a program that determines the roots of a quartic equation using numerical methods.\n",
    "30. Write a program that calculates the BMI (Body Mass Index) and provides health recommendations based on the user's input."
   ]
  },
  {
   "cell_type": "code",
   "execution_count": 2,
   "id": "ab2cf82a-6d3b-4690-a778-b55b43fa7b0d",
   "metadata": {},
   "outputs": [
    {
     "name": "stdin",
     "output_type": "stream",
     "text": [
      "Provide your income to calculate income tax 125000\n"
     ]
    },
    {
     "name": "stdout",
     "output_type": "stream",
     "text": [
      "You need to pay $25000.0 income tax\n"
     ]
    }
   ],
   "source": [
    "# 21\n",
    "\n",
    "income = int(input(\"Provide your income to calculate income tax\"))\n",
    "\n",
    "if income >= 150000:\n",
    "    tax = 0.3\n",
    "    income_tax = income * tax\n",
    "    print(f\"You need to pay ${income_tax} income tax\")\n",
    "elif income >= 100000 and income < 150000:\n",
    "    tax = 0.2\n",
    "    income_tax = income * tax\n",
    "    print(f\"You need to pay ${income_tax} income tax\")\n",
    "elif income >= 60000 and income < 100000:\n",
    "    tax = 0.1\n",
    "    income_tax = income * tax\n",
    "    print(f\"You need to pay ${income_tax} income tax\")   \n",
    "else:\n",
    "    print(\"You do not need to pay any income tax\")"
   ]
  },
  {
   "cell_type": "code",
   "execution_count": 5,
   "id": "7700db66-3877-4c0f-8e91-9f06eb067490",
   "metadata": {},
   "outputs": [
    {
     "name": "stdin",
     "output_type": "stream",
     "text": [
      "Enter your choice (rock,paper,scissors) scissors\n"
     ]
    },
    {
     "name": "stdout",
     "output_type": "stream",
     "text": [
      "Your choice is scissors\n",
      "Computer choice is rock\n",
      "You lose! Rock smashes scissors.\n"
     ]
    }
   ],
   "source": [
    "## 22\n",
    "\n",
    "import random\n",
    "\n",
    "choices = ['rock','paper','scissors']\n",
    "\n",
    "computer_choice = random.choice(choices)\n",
    "\n",
    "user_choice = input(\"Enter your choice (rock,paper,scissors)\").lower()\n",
    "\n",
    "print(f\"Your choice is {user_choice}\")\n",
    "print(f\"Computer choice is {computer_choice}\")\n",
    "\n",
    "if computer_choice == user_choice:\n",
    "    print(\"It's a tie\")\n",
    "\n",
    "elif user_choice == 'rock':\n",
    "    if computer_choice == \"scissors\":\n",
    "        print(\"You win! Rock smashes scissors.\")\n",
    "    else:\n",
    "        print(\"You lose! Paper covers rock.\")\n",
    "        \n",
    "elif user_choice == \"paper\":\n",
    "    if computer_choice == \"rock\":\n",
    "        print(\"You win! Paper covers rock.\")\n",
    "    else:\n",
    "        print(\"You lose! Scissors cut paper.\")\n",
    "        \n",
    "elif user_choice == \"scissors\":\n",
    "    if computer_choice == \"paper\":\n",
    "        print(\"You win! Scissors cut paper.\")\n",
    "    else:\n",
    "        print(\"You lose! Rock smashes scissors.\")\n",
    "        \n",
    "else:\n",
    "    print(\"Invalid choice! Please choose rock, paper, or scissors.\")\n"
   ]
  },
  {
   "cell_type": "code",
   "execution_count": 17,
   "id": "8023da10-6331-42cd-ad40-2efa2afac7f2",
   "metadata": {},
   "outputs": [
    {
     "name": "stdin",
     "output_type": "stream",
     "text": [
      "Enter Length of Password 8\n",
      "Do you want to include Uppercase? yes\n",
      "Do you want to include lowercase? yes\n",
      "Include digits? yes\n",
      "Include special characters? yes\n"
     ]
    },
    {
     "name": "stdout",
     "output_type": "stream",
     "text": [
      "Generated password &#*>8z)P\n"
     ]
    }
   ],
   "source": [
    "# 23\n",
    "\n",
    "import random\n",
    "import string\n",
    "\n",
    "length = int(input(\"Enter Length of Password\"))\n",
    "Include_uppercase = input(\"Do you want to include Uppercase?\").strip().lower() == 'yes'\n",
    "Include_lowercase = input(\"Do you want to include lowercase?\").strip().lower() == 'yes'\n",
    "Include_digits = input(\"Include digits?\").strip().lower() == 'yes'\n",
    "Include_special = input(\"Include special characters?\").strip().lower() == 'yes'\n",
    "\n",
    "character_pool = \"\"\n",
    "\n",
    "if Include_uppercase:\n",
    "    character_pool += string.ascii_uppercase\n",
    "if Include_lowercase:\n",
    "    character_pool += string.ascii_lowercase\n",
    "if Include_digits:\n",
    "    character_pool += string.digits\n",
    "if Include_special:\n",
    "    character_pool += string.punctuation\n",
    "    \n",
    "\n",
    "if not character_pool:\n",
    "    print(\"You must select at least one type of character to be included in Password.\")\n",
    "else:\n",
    "    password = \"\".join(random.choice(character_pool) for _ in range(length))\n",
    "    print(f\"Generated password {password}\")\n",
    "    \n",
    "\n"
   ]
  },
  {
   "cell_type": "code",
   "execution_count": 21,
   "id": "8c65984a-42b8-4a4a-bc44-b5fe7e7fdd78",
   "metadata": {},
   "outputs": [
    {
     "name": "stdout",
     "output_type": "stream",
     "text": [
      "Welcome to the Adventure Game!\n",
      "You find yourself in a dark forest with two paths ahead.\n",
      "Do you want to go left or right?\n"
     ]
    },
    {
     "name": "stdin",
     "output_type": "stream",
     "text": [
      "Type 'left' or 'right' and press Enter:  left\n"
     ]
    },
    {
     "name": "stdout",
     "output_type": "stream",
     "text": [
      "\n",
      "You walk down the left path and encounter a friendly wizard.\n",
      "He offers you two potions: one red and one blue.\n",
      "Do you want to take the red potion or the blue potion?\n"
     ]
    },
    {
     "name": "stdin",
     "output_type": "stream",
     "text": [
      "Type 'red' or 'blue' and press Enter:  blue\n"
     ]
    },
    {
     "name": "stdout",
     "output_type": "stream",
     "text": [
      "\n",
      "You drink the blue potion and feel very sleepy.\n",
      "You fall asleep and wake up back at the start of the forest.\n",
      "Unfortunately, you lost your chance to find the treasure.\n",
      "Game over.\n"
     ]
    }
   ],
   "source": [
    "# 24\n",
    "\n",
    "print(\"Welcome to the Adventure Game!\")\n",
    "print(\"You find yourself in a dark forest with two paths ahead.\")\n",
    "print(\"Do you want to go left or right?\")\n",
    "\n",
    "choice1 = input(\"Type 'left' or 'right' and press Enter: \").strip().lower()\n",
    "\n",
    "if choice1 == \"left\":\n",
    "    print(\"\\nYou walk down the left path and encounter a friendly wizard.\")\n",
    "    print(\"He offers you two potions: one red and one blue.\")\n",
    "    print(\"Do you want to take the red potion or the blue potion?\")\n",
    "    \n",
    "    choice2 = input(\"Type 'red' or 'blue' and press Enter: \").strip().lower()\n",
    "    \n",
    "    if choice2 == \"red\":\n",
    "        print(\"\\nYou drink the red potion and feel a surge of power!\")\n",
    "        print(\"You have gained super strength and continue your adventure.\")\n",
    "        print(\"You find a hidden treasure chest filled with gold!\")\n",
    "        print(\"Congratulations, you win!\")\n",
    "    elif choice2 == \"blue\":\n",
    "        print(\"\\nYou drink the blue potion and feel very sleepy.\")\n",
    "        print(\"You fall asleep and wake up back at the start of the forest.\")\n",
    "        print(\"Unfortunately, you lost your chance to find the treasure.\")\n",
    "        print(\"Game over.\")\n",
    "    else:\n",
    "        print(\"\\nInvalid choice. The wizard disappears and you are left alone in the forest.\")\n",
    "        print(\"Game over.\")\n",
    "        \n",
    "elif choice1 == \"right\":\n",
    "    print(\"\\nYou walk down the right path and encounter a hungry wolf.\")\n",
    "    print(\"Do you want to run away or try to fight the wolf?\")\n",
    "    \n",
    "    choice2 = input(\"Type 'run' or 'fight' and press Enter: \").strip().lower()\n",
    "    \n",
    "    if choice2 == \"run\":\n",
    "        print(\"\\nYou run as fast as you can and manage to escape the wolf.\")\n",
    "        print(\"You find a village where you are safe and can rest.\")\n",
    "        print(\"You survived, but didn't find the treasure.\")\n",
    "        print(\"Game over.\")\n",
    "    elif choice2 == \"fight\":\n",
    "        print(\"\\nYou try to fight the wolf, but it's too strong for you.\")\n",
    "        print(\"The wolf overpowers you and you are forced to retreat.\")\n",
    "        print(\"You are injured and lost in the forest.\")\n",
    "        print(\"Game over.\")\n",
    "    else:\n",
    "        print(\"\\nInvalid choice. The wolf attacks you while you hesitate.\")\n",
    "        print(\"Game over.\")\n",
    "        \n",
    "else:\n",
    "    print(\"\\nInvalid choice. You wander aimlessly in the forest until you find your way back home.\")\n",
    "    print(\"Game over.\")"
   ]
  },
  {
   "cell_type": "code",
   "execution_count": 24,
   "id": "1a9b184a-516a-493f-98a5-0349a3f0971e",
   "metadata": {},
   "outputs": [
    {
     "name": "stdin",
     "output_type": "stream",
     "text": [
      "Enter the coefficient a:  0\n",
      "Enter the coefficient b:  5\n"
     ]
    },
    {
     "name": "stdout",
     "output_type": "stream",
     "text": [
      "Linear equation 0.0x+5.0 has no solution\n"
     ]
    }
   ],
   "source": [
    "# 25\n",
    "\n",
    "a = float(input(\"Enter the coefficient a: \"))\n",
    "b = float(input(\"Enter the coefficient b: \"))\n",
    "\n",
    "if a != 0:\n",
    "    x = - b / a\n",
    "    print(f\"Linear equation {a}x+{b} has a single solution: {x}\")\n",
    "else:\n",
    "    if b == 0:\n",
    "        print(f\"Linear equation {a}x+{b} has infinite solution\")\n",
    "    else:\n",
    "        print(f\"Linear equation {a}x+{b} has no solution\")"
   ]
  },
  {
   "cell_type": "code",
   "execution_count": 33,
   "id": "8de88132-0d80-4b27-b954-65b3faeaae38",
   "metadata": {},
   "outputs": [
    {
     "name": "stdout",
     "output_type": "stream",
     "text": [
      "Question 1: What is the capital of France?\n",
      "A. Berlin\n",
      "B. Madrid\n",
      "C. Paris\n",
      "D. Rome\n"
     ]
    },
    {
     "name": "stdin",
     "output_type": "stream",
     "text": [
      "Enter your answer (A,B,C,D) C\n"
     ]
    },
    {
     "name": "stdout",
     "output_type": "stream",
     "text": [
      "Correct Answer\n",
      "Question 2: What is the largest planet in our solar system?\n",
      "A. Earth\n",
      "B. Jupiter\n",
      "C. Mars\n",
      "D. Saturn\n"
     ]
    },
    {
     "name": "stdin",
     "output_type": "stream",
     "text": [
      "Enter your answer (A,B,C,D) B\n"
     ]
    },
    {
     "name": "stdout",
     "output_type": "stream",
     "text": [
      "Correct Answer\n",
      "Question 3: Who wrote 'To Kill a Mockingbird'?\n",
      "A. Harper Lee\n",
      "B. Mark Twain\n",
      "C. J.K. Rowling\n",
      "D. Ernest Hemingway\n"
     ]
    },
    {
     "name": "stdin",
     "output_type": "stream",
     "text": [
      "Enter your answer (A,B,C,D) A\n"
     ]
    },
    {
     "name": "stdout",
     "output_type": "stream",
     "text": [
      "Correct Answer\n",
      "Question 4: What is the boiling point of water in Celsius?\n",
      "A. 50°C\n",
      "B. 75°C\n",
      "C. 90°C\n",
      "D. 100°C\n"
     ]
    },
    {
     "name": "stdin",
     "output_type": "stream",
     "text": [
      "Enter your answer (A,B,C,D) A\n"
     ]
    },
    {
     "name": "stdout",
     "output_type": "stream",
     "text": [
      "Wrong! The correct answer is D\n",
      "Question 5: What is the smallest prime number?\n",
      "A. 0\n",
      "B. 1\n",
      "C. 2\n",
      "D. 3\n"
     ]
    },
    {
     "name": "stdin",
     "output_type": "stream",
     "text": [
      "Enter your answer (A,B,C,D) A\n"
     ]
    },
    {
     "name": "stdout",
     "output_type": "stream",
     "text": [
      "Wrong! The correct answer is C\n",
      "Your final score is 3 out of 5\n"
     ]
    }
   ],
   "source": [
    "# 26\n",
    "\n",
    "questions = [\n",
    "    \"What is the capital of France?\",\n",
    "    \"What is the largest planet in our solar system?\",\n",
    "    \"Who wrote 'To Kill a Mockingbird'?\",\n",
    "    \"What is the boiling point of water in Celsius?\",\n",
    "    \"What is the smallest prime number?\"\n",
    "]\n",
    "\n",
    "choices = [\n",
    "    [\"A. Berlin\", \"B. Madrid\", \"C. Paris\", \"D. Rome\"],\n",
    "    [\"A. Earth\", \"B. Jupiter\", \"C. Mars\", \"D. Saturn\"],\n",
    "    [\"A. Harper Lee\", \"B. Mark Twain\", \"C. J.K. Rowling\", \"D. Ernest Hemingway\"],\n",
    "    [\"A. 50°C\", \"B. 75°C\", \"C. 90°C\", \"D. 100°C\"],\n",
    "    [\"A. 0\", \"B. 1\", \"C. 2\", \"D. 3\"]\n",
    "]\n",
    "\n",
    "correct_answer = [\"C\", \"B\", \"A\", \"D\", \"C\"]\n",
    "\n",
    "score = 0\n",
    "\n",
    "for i in range(len(questions)):\n",
    "    print(f\"Question {i+1}: {questions[i]}\")\n",
    "    for choice in choices[i]:\n",
    "        print(choice)\n",
    "        \n",
    "    answer = input(\"Enter your answer (A,B,C,D)\").strip().upper()\n",
    "    \n",
    "    if answer == correct_answer[i]:\n",
    "        print(\"Correct Answer\\n\")\n",
    "        score += 1\n",
    "    else:\n",
    "        print(f\"Wrong! The correct answer is {correct_answer[i]}\")\n",
    "        \n",
    "print(f\"Your final score is {score} out of {len(questions)}\")\n",
    "    \n",
    "\n",
    "    "
   ]
  },
  {
   "cell_type": "code",
   "execution_count": 47,
   "id": "9d3b0215-8ac0-488d-99be-69aebddf8e7a",
   "metadata": {},
   "outputs": [
    {
     "name": "stdin",
     "output_type": "stream",
     "text": [
      "Enter a year to check if that is prime number? 2024\n"
     ]
    },
    {
     "name": "stdout",
     "output_type": "stream",
     "text": [
      "2024 is not a prime number\n"
     ]
    }
   ],
   "source": [
    "# 27\n",
    "\n",
    "year = int(input(\"Enter a year to check if that is prime number?\"))\n",
    "\n",
    "is_prime = False\n",
    "\n",
    "for i in range(2,int(year**0.5)+1):\n",
    "    if year % i  == 0:\n",
    "        is_prime = False\n",
    "    else:\n",
    "        is_prime = True\n",
    "\n",
    "if is_prime:\n",
    "    print(f\"{year} is a prime number\")\n",
    "else:\n",
    "    print(f\"{year} is not a prime number\")"
   ]
  },
  {
   "cell_type": "code",
   "execution_count": 7,
   "id": "7b7a4b39-b7e8-414d-9ad7-6bc1a4c3527a",
   "metadata": {},
   "outputs": [
    {
     "name": "stdin",
     "output_type": "stream",
     "text": [
      "Enter first number 2\n",
      "Enter second number 4\n",
      "Enter third number 1\n"
     ]
    },
    {
     "name": "stdout",
     "output_type": "stream",
     "text": [
      "[1, 2, 4]\n"
     ]
    }
   ],
   "source": [
    "## 28\n",
    "\n",
    "a,b,c = int(input(\"Enter first number\")),int(input(\"Enter second number\")),int(input(\"Enter third number\"))\n",
    "\n",
    "lst = []\n",
    "\n",
    "if a >= c and b >= c:\n",
    "    smallest = c\n",
    "    lst.append(smallest)\n",
    "    if a >= b:\n",
    "        lst.append(b)\n",
    "        lst.append(a)\n",
    "        print(lst)\n",
    "    elif b >= a:\n",
    "        lst.append(a)\n",
    "        lst.append(b)\n",
    "        print(lst)\n",
    "elif b >= a and c >= a:\n",
    "    smallest = a\n",
    "    lst.append(smallest)\n",
    "    if b >= c:\n",
    "        lst.append(c)\n",
    "        lst.append(b)\n",
    "        print(lst)\n",
    "    elif c >= b:\n",
    "        lst.append(b)\n",
    "        lst.append(c)\n",
    "        print(lst)\n",
    "else:\n",
    "    smallest = b\n",
    "    lst.append(smallest)\n",
    "    if a >= c:\n",
    "        lst.append(c)\n",
    "        lst.append(a)\n",
    "        print(lst)\n",
    "    else:\n",
    "        lst.append(a)\n",
    "        lst.append(c)\n",
    "        print(lst)\n",
    "        "
   ]
  },
  {
   "cell_type": "code",
   "execution_count": 8,
   "id": "7307c1d3-74bc-4a59-8309-94def2184655",
   "metadata": {},
   "outputs": [
    {
     "name": "stdin",
     "output_type": "stream",
     "text": [
      "Enter the coefficient a (for x^4 term):  4\n",
      "Enter the coefficient b (for x^3 term):  5\n",
      "Enter the coefficient c (for x^2 term):  2\n",
      "Enter the coefficient d (for x term):  1\n",
      "Enter the constant term e:  2\n"
     ]
    },
    {
     "name": "stdout",
     "output_type": "stream",
     "text": [
      "The roots of the quartic equation are:\n",
      "(-0.9092452468817317+0.48686728617445063j)\n",
      "(-0.9092452468817317-0.48686728617445063j)\n",
      "(0.2842452468817317+0.6238850254694406j)\n",
      "(0.2842452468817317-0.6238850254694406j)\n"
     ]
    }
   ],
   "source": [
    "## 29\n",
    "\n",
    "import numpy as np\n",
    "\n",
    "a = float(input(\"Enter the coefficient a (for x^4 term): \"))\n",
    "b = float(input(\"Enter the coefficient b (for x^3 term): \"))\n",
    "c = float(input(\"Enter the coefficient c (for x^2 term): \"))\n",
    "d = float(input(\"Enter the coefficient d (for x term): \"))\n",
    "e = float(input(\"Enter the constant term e: \"))\n",
    "\n",
    "if a == 0:\n",
    "    print(\"The coefficient a must not be zero for a quartic equation.\")\n",
    "else:\n",
    "    coefficients = [a, b, c, d, e]\n",
    "\n",
    "    roots = np.roots(coefficients)\n",
    "\n",
    "    print(\"The roots of the quartic equation are:\")\n",
    "    for root in roots:\n",
    "        print(root)"
   ]
  },
  {
   "cell_type": "code",
   "execution_count": 11,
   "id": "b9699b6c-9e0f-43a7-bffc-436e62c6d225",
   "metadata": {},
   "outputs": [
    {
     "name": "stdin",
     "output_type": "stream",
     "text": [
      "Please tell us your weight in kg 74.5\n",
      "Now! tell me your height in meters 1.6002\n"
     ]
    },
    {
     "name": "stdout",
     "output_type": "stream",
     "text": [
      "Providing Health Recommendation based on your BMI\n",
      "since your BMI is: 29.09428847328342, You are Overweight\n",
      "Health Recommendation: Overweight individuals are at increased risk for various health issues such as heart disease, high blood pressure, type 2 diabetes, and certain cancers. \n"
     ]
    }
   ],
   "source": [
    "## 30\n",
    "\n",
    "w, h = float(input(\"Please tell us your weight in kg\")), float(input(\"Now! tell me your height in meters\"))\n",
    "\n",
    "print('Providing Health Recommendation based on your BMI')\n",
    "\n",
    "BMI = w / (h ** 2)\n",
    "\n",
    "if BMI < 18.5:\n",
    "    print(f\"since your BMI is: {BMI}, You are underweight\")\n",
    "    print(\"Health Recommendation: Individuals in this range may be at risk for nutritional deficiencies, weakened immune system, and other health issues.\")\n",
    "    \n",
    "elif BMI >= 18.5 and BMI <= 24.9:\n",
    "    print(f\"since your BMI is: {BMI}, You are Normal Weight\")\n",
    "    print(\"Health Recommendation: This range is generally associated with the lowest risk of weight-related health problems.\")\n",
    "    \n",
    "elif BMI > 24.9 and BMI < 30:\n",
    "    print(f\"since your BMI is: {BMI}, You are Overweight\")\n",
    "    print(\"Health Recommendation: Overweight individuals are at increased risk for various health issues such as heart disease, high blood pressure, type 2 diabetes, and certain cancers. \")\n",
    "    \n",
    "elif BMI >= 30:\n",
    "    print(f\"since your BMI is: {BMI}, You are Obese\")\n",
    "    print(\"Health Recommendation: Obesity significantly increases the risk of serious health conditions, including heart disease, stroke, type 2 diabetes, and certain cancers. \")"
   ]
  },
  {
   "cell_type": "markdown",
   "id": "b20d5fcb-9ab0-435b-9cf2-721e2343f3bc",
   "metadata": {},
   "source": [
    "31. Create a program that validates a password based on complexity rules (length, characters, etc.).\n",
    "32. Develop a program that performs matrix addition and subtraction based on user input.\n",
    "33. Write a program that calculates the greatest common divisor (GCD) of two numbers using the Euclidean algorithm.\n",
    "34. Build a program that performs matrix multiplication using nested loops and conditional statements.\n",
    "35. Create a program that simulates a basic text-based tic-tac-toe game against the computer.\n",
    "36. Write a program that generates Fibonacci numbers up to a specified term using iterative methods.\n",
    "37. Develop a program that calculates the nth term of the Fibonacci sequence using memoization.\n",
    "38. Create a program that generates a calendar for a given month and year using conditional statements.\n",
    "39. Build a program that simulates a basic text-based blackjack game against the computer.\n",
    "40. Write a program that generates the prime factors of a given number using trial division."
   ]
  },
  {
   "cell_type": "code",
   "execution_count": 23,
   "id": "1aa232be-f78d-4bb4-8478-d6dff0363e26",
   "metadata": {},
   "outputs": [
    {
     "name": "stdin",
     "output_type": "stream",
     "text": [
      "Enter your password pri^yeshjani\n"
     ]
    },
    {
     "name": "stdout",
     "output_type": "stream",
     "text": [
      "Your password is too long!\n",
      "Your password contains special characters\n"
     ]
    }
   ],
   "source": [
    "# 31\n",
    "\n",
    "import string\n",
    "\n",
    "password = input(\"Enter your password\")\n",
    "\n",
    "if len(password) > 8:\n",
    "    print(\"Your password is too long!\")\n",
    "elif len(password) <= 4:\n",
    "    print(\"Your password is too short!\")\n",
    "\n",
    "for i in string.punctuation:\n",
    "    for j in password:\n",
    "        if i == j:\n",
    "            print(\"Your password contains special characters\")\n"
   ]
  },
  {
   "cell_type": "code",
   "execution_count": 35,
   "id": "1e78a50d-88c3-4af6-ad78-921ffa25e334",
   "metadata": {},
   "outputs": [
    {
     "name": "stdin",
     "output_type": "stream",
     "text": [
      "Enter the number of rows:  1\n",
      "Enter the number of columns:  1\n"
     ]
    },
    {
     "name": "stdout",
     "output_type": "stream",
     "text": [
      "Input for Matrix 1:\n"
     ]
    },
    {
     "name": "stdin",
     "output_type": "stream",
     "text": [
      "Enter element at position (1,1):  2\n"
     ]
    },
    {
     "name": "stdout",
     "output_type": "stream",
     "text": [
      "Input for Matrix 2:\n"
     ]
    },
    {
     "name": "stdin",
     "output_type": "stream",
     "text": [
      "Enter element at position (1,1):  2\n"
     ]
    },
    {
     "name": "stdout",
     "output_type": "stream",
     "text": [
      "\n",
      "Matrix Addition:\n",
      "[4.0]\n",
      "\n",
      "Matrix Subtraction:\n",
      "[0.0]\n"
     ]
    }
   ],
   "source": [
    "# 32\n",
    "\n",
    "# Input dimensions of matrices\n",
    "rows = int(input(\"Enter the number of rows: \"))\n",
    "cols = int(input(\"Enter the number of columns: \"))\n",
    "\n",
    "# Input matrix1\n",
    "print(\"Input for Matrix 1:\")\n",
    "matrix1 = []\n",
    "for i in range(rows):\n",
    "    row = []\n",
    "    for j in range(cols):\n",
    "        element = float(input(f\"Enter element at position ({i+1},{j+1}): \"))\n",
    "        row.append(element)\n",
    "    matrix1.append(row)\n",
    "    \n",
    "print(\"Input for Matrix 2:\")\n",
    "matrix2 = []\n",
    "for i in range(rows):\n",
    "    row = []\n",
    "    for j in range(cols):\n",
    "        element = float(input(f\"Enter element at position ({i+1},{j+1}): \"))\n",
    "        row.append(element)\n",
    "    matrix2.append(row)\n",
    "    \n",
    "result_addition = [[0 for col in range(cols)] for row in range(rows)]\n",
    "result_sub = [[0 for col in range(cols)] for row in range(rows)]\n",
    "\n",
    "for i in range(rows):\n",
    "    for j in range(cols):\n",
    "        result_addition[i][j] = matrix1[i][j] + matrix2[i][j]\n",
    "        result_sub[i][j] = matrix1[i][j] - matrix2[i][j]\n",
    "        \n",
    "print(\"\\nMatrix Addition:\")\n",
    "for row in result_addition:\n",
    "    print(row)\n",
    "\n",
    "print(\"\\nMatrix Subtraction:\")\n",
    "for row in result_sub:\n",
    "    print(row)"
   ]
  },
  {
   "cell_type": "code",
   "execution_count": 43,
   "id": "6845f50b-8833-479e-b299-661bb6c18db8",
   "metadata": {},
   "outputs": [
    {
     "name": "stdin",
     "output_type": "stream",
     "text": [
      "Enter first number 25\n",
      "Enter second number 15\n"
     ]
    },
    {
     "name": "stdout",
     "output_type": "stream",
     "text": [
      "The GCD of 25 and 15 is:\n",
      "5\n"
     ]
    }
   ],
   "source": [
    "# 33\n",
    "\n",
    "num1 = int(input(\"Enter first number\"))\n",
    "num2 = int(input(\"Enter second number\"))\n",
    "\n",
    "print(f\"The GCD of {num1} and {num2} is:\")\n",
    "\n",
    "if num1 < num2:\n",
    "    num1,num2 = num2,num1\n",
    "    \n",
    "while num2 != 0:\n",
    "    remainder = num1 % num2\n",
    "    num1 = num2\n",
    "    num2 = remainder\n",
    "    \n",
    "gcd = num1\n",
    "\n",
    "print(f\"{gcd}\")"
   ]
  },
  {
   "cell_type": "code",
   "execution_count": 1,
   "id": "2792a21e-fb6f-418b-a079-4bb1a6dbe821",
   "metadata": {},
   "outputs": [
    {
     "name": "stdin",
     "output_type": "stream",
     "text": [
      "Enter the number of rows:  2\n",
      "Enter the number of columns:  2\n"
     ]
    },
    {
     "name": "stdout",
     "output_type": "stream",
     "text": [
      "Input for Matrix1: \n"
     ]
    },
    {
     "name": "stdin",
     "output_type": "stream",
     "text": [
      "Enter element at position (1,1):  1\n",
      "Enter element at position (1,2):  2\n",
      "Enter element at position (2,1):  1\n",
      "Enter element at position (2,2):  2\n"
     ]
    },
    {
     "name": "stdout",
     "output_type": "stream",
     "text": [
      "Input for Matrix2: \n"
     ]
    },
    {
     "name": "stdin",
     "output_type": "stream",
     "text": [
      "Enter element at position (1,1):  2\n",
      "Enter element at position (1,2):  3\n",
      "Enter element at position (2,1):  2\n",
      "Enter element at position (2,2):  3\n"
     ]
    },
    {
     "name": "stdout",
     "output_type": "stream",
     "text": [
      "\n",
      "Matrix Mult:\n",
      "Result Multiplication: [2.0, 6.0]\n",
      "Result Multiplication: [2.0, 6.0]\n",
      "Result Division: [0.5, 0.6666666666666666]\n",
      "Result Division: [0.5, 0.6666666666666666]\n"
     ]
    }
   ],
   "source": [
    "#34\n",
    "\n",
    "rows = int(input(\"Enter the number of rows: \"))\n",
    "cols = int(input(\"Enter the number of columns: \"))\n",
    "\n",
    "print(\"Input for Matrix1: \")\n",
    "\n",
    "matrix1 = []\n",
    "\n",
    "for i in range(rows):\n",
    "    row = []\n",
    "    for j in range(cols):\n",
    "        element = float(input(f\"Enter element at position ({i+1},{j+1}): \"))\n",
    "        row.append(element)\n",
    "    matrix1.append(row)\n",
    "\n",
    "print(\"Input for Matrix2: \")\n",
    "\n",
    "matrix2 = []\n",
    "\n",
    "for i in range(rows):\n",
    "    row = []\n",
    "    for j in range(cols):\n",
    "        element = float(input(f\"Enter element at position ({i+1},{j+1}): \"))\n",
    "        row.append(element)\n",
    "    matrix2.append(row)\n",
    "    \n",
    "result_mult = [[1 for row in range(rows)] for col in range(cols)]\n",
    "result_div = [[1 for row in range(rows)] for col in range(cols)]\n",
    "\n",
    "for i in range(rows):\n",
    "    for j in range(cols):\n",
    "        result_mult[i][j] = matrix1[i][j] * matrix2[i][j]\n",
    "        result_div[i][j] = matrix1[i][j] / matrix2[i][j]\n",
    "    \n",
    "print(\"\\nMatrix Mult:\")\n",
    "for row in result_mult:\n",
    "    print(f\"Result Multiplication: {row}\")\n",
    "    \n",
    "for row in result_div:\n",
    "    print(f\"Result Division: {row}\")\n",
    "    "
   ]
  },
  {
   "cell_type": "code",
   "execution_count": 11,
   "id": "f9e506fd-06ab-4287-82f7-fd7e059dc5c3",
   "metadata": {},
   "outputs": [
    {
     "name": "stdout",
     "output_type": "stream",
     "text": [
      "---------\n",
      " | | \n",
      "---------\n",
      " | | \n",
      "---------\n",
      " | | \n",
      "---------\n"
     ]
    },
    {
     "name": "stdin",
     "output_type": "stream",
     "text": [
      "Enter your move (1-9):  1\n"
     ]
    },
    {
     "name": "stdout",
     "output_type": "stream",
     "text": [
      "---------\n",
      "X| | \n",
      "---------\n",
      " | | \n",
      "---------\n",
      " |O| \n",
      "---------\n"
     ]
    },
    {
     "name": "stdin",
     "output_type": "stream",
     "text": [
      "Enter your move (1-9):  5\n"
     ]
    },
    {
     "name": "stdout",
     "output_type": "stream",
     "text": [
      "---------\n",
      "X| | \n",
      "---------\n",
      " |X|O\n",
      "---------\n",
      " |O| \n",
      "---------\n"
     ]
    },
    {
     "name": "stdin",
     "output_type": "stream",
     "text": [
      "Enter your move (1-9):  9\n"
     ]
    },
    {
     "name": "stdout",
     "output_type": "stream",
     "text": [
      "---------\n",
      "X| | \n",
      "---------\n",
      " |X|O\n",
      "---------\n",
      " |O|X\n",
      "---------\n",
      "You win!\n"
     ]
    }
   ],
   "source": [
    "# 35 Create a program that simulates a basic text-based tic-tac-toe game against the computer.\n",
    "\n",
    "import random\n",
    "\n",
    "# Initialize the game board\n",
    "board = [' ' for _ in range(9)]\n",
    "\n",
    "# Display the game board\n",
    "def display_board():\n",
    "    print('---------')\n",
    "    print('|'.join(board[0:3]))\n",
    "    print('---------')\n",
    "    print('|'.join(board[3:6]))\n",
    "    print('---------')\n",
    "    print('|'.join(board[6:9]))\n",
    "    print('---------')\n",
    "\n",
    "# Check for a win\n",
    "def check_win(mark):\n",
    "    win_conditions = [\n",
    "        [0, 1, 2], [3, 4, 5], [6, 7, 8],  # rows\n",
    "        [0, 3, 6], [1, 4, 7], [2, 5, 8],  # columns\n",
    "        [0, 4, 8], [2, 4, 6]              # diagonals\n",
    "    ]\n",
    "    for condition in win_conditions:\n",
    "        if board[condition[0]] == board[condition[1]] == board[condition[2]] == mark:\n",
    "            return True\n",
    "    return False\n",
    "\n",
    "# Check for a draw\n",
    "def check_draw():\n",
    "    return ' ' not in board\n",
    "\n",
    "# Player move\n",
    "def player_move():\n",
    "    while True:\n",
    "        move = int(input(\"Enter your move (1-9): \")) - 1\n",
    "        if board[move] == ' ':\n",
    "            board[move] = 'X'\n",
    "            break\n",
    "        else:\n",
    "            print(\"Invalid move. Try again.\")\n",
    "\n",
    "# Computer move\n",
    "def computer_move():\n",
    "    while True:\n",
    "        move = random.randint(0, 8)\n",
    "        if board[move] == ' ':\n",
    "            board[move] = 'O'\n",
    "            break\n",
    "\n",
    "# Main game loop\n",
    "while True:\n",
    "    display_board()\n",
    "\n",
    "    # Player move\n",
    "    player_move()\n",
    "    if check_win('X'):\n",
    "        display_board()\n",
    "        print(\"You win!\")\n",
    "        break\n",
    "    if check_draw():\n",
    "        display_board()\n",
    "        print(\"It's a draw!\")\n",
    "        break\n",
    "\n",
    "    # Computer move\n",
    "    computer_move()\n",
    "    if check_win('O'):\n",
    "        display_board()\n",
    "        print(\"Computer wins!\")\n",
    "        break\n",
    "    if check_draw():\n",
    "        display_board()\n",
    "        print(\"It's a draw!\")\n",
    "        break"
   ]
  },
  {
   "cell_type": "code",
   "execution_count": 2,
   "id": "c875b5a5-03dc-4ba3-aa4c-4c6598b8c7c9",
   "metadata": {},
   "outputs": [
    {
     "name": "stdin",
     "output_type": "stream",
     "text": [
      "Enter range upto which you want to get Fibonacci series:  3\n"
     ]
    },
    {
     "name": "stdout",
     "output_type": "stream",
     "text": [
      "[0, 1, 1]\n"
     ]
    }
   ],
   "source": [
    "# 36\n",
    "\n",
    "num = int(input(\"Enter range upto which you want to get Fibonacci series: \"))\n",
    "\n",
    "fib_seq = []\n",
    "\n",
    "if num <= 0:\n",
    "    fib_seq = []\n",
    "elif num == 1:\n",
    "    fib_seq = [0]\n",
    "elif num == 2:\n",
    "    fib_seq = [0, 1]\n",
    "else:\n",
    "    fib_seq = [0, 1]\n",
    "    for i in range(2, num):\n",
    "        fib_seq.append(fib_seq[-1] + fib_seq[-2])\n",
    "\n",
    "print(fib_seq)"
   ]
  },
  {
   "cell_type": "code",
   "execution_count": 4,
   "id": "14560fca-99b6-4c4a-ab48-51c2c572962e",
   "metadata": {},
   "outputs": [
    {
     "name": "stdin",
     "output_type": "stream",
     "text": [
      "Enter range upto which you want to get Fibonacci series:  3\n"
     ]
    },
    {
     "name": "stdout",
     "output_type": "stream",
     "text": [
      "[0, 1, 1]\n"
     ]
    }
   ],
   "source": [
    "n = int(input(\"Enter range upto which you want to get Fibonacci series: \"))\n",
    "\n",
    "fib_seq = []\n",
    "a, b = 0 ,1\n",
    "\n",
    "for i in range(n):\n",
    "    fib_seq.append(a)\n",
    "    a , b = b , a+b\n",
    "    \n",
    "print(fib_seq)"
   ]
  },
  {
   "cell_type": "code",
   "execution_count": 4,
   "id": "83c9b109-9e10-4548-889b-0d882f2033b1",
   "metadata": {},
   "outputs": [
    {
     "name": "stdin",
     "output_type": "stream",
     "text": [
      "Enter the term number to get fibonacci seq:  10\n"
     ]
    },
    {
     "name": "stdout",
     "output_type": "stream",
     "text": [
      "Fibonacci term 10 is: 55\n"
     ]
    }
   ],
   "source": [
    "# 37\n",
    "\n",
    "n = int(input(\"Enter the term number to get fibonacci seq: \"))\n",
    "\n",
    "fib_seq = [0,1] + [-1] * (n-1)\n",
    "\n",
    "if n == 0:\n",
    "    print(\"Fibonacci term 0 is 0\")\n",
    "elif n == 1:\n",
    "    print(\"Fibonacci term 1 is 1\")\n",
    "else:\n",
    "    for i in range(2,n+1):\n",
    "        fib_seq[i] = fib_seq[i-1] + fib_seq[i-2]\n",
    "        \n",
    "    print(f\"Fibonacci term {n} is: {fib_seq[n]}\")"
   ]
  },
  {
   "cell_type": "code",
   "execution_count": 5,
   "id": "32f5e419-d872-4508-9a5c-5ce113f45cc0",
   "metadata": {},
   "outputs": [
    {
     "name": "stdin",
     "output_type": "stream",
     "text": [
      "Enter year:  2025\n",
      "Enter month (1-12):  4\n"
     ]
    },
    {
     "name": "stdout",
     "output_type": "stream",
     "text": [
      "    April 2025\n",
      "Su Mo Tu We Th Fr Sa\n",
      "    1  2  3  4  5  6 \n",
      " 7  8  9 10 11 12 13 \n",
      "14 15 16 17 18 19 20 \n",
      "21 22 23 24 25 26 27 \n",
      "28 29 30 \n"
     ]
    }
   ],
   "source": [
    "# 38\n",
    "\n",
    "# Input the year and month\n",
    "year = int(input(\"Enter year: \"))\n",
    "month = int(input(\"Enter month (1-12): \"))\n",
    "\n",
    "# Initialize month names and days in each month\n",
    "month_names = [\"January\", \"February\", \"March\", \"April\", \"May\", \"June\", \"July\", \"August\", \"September\", \"October\", \"November\", \"December\"]\n",
    "days_in_month = [31, 28, 31, 30, 31, 30, 31, 31, 30, 31, 30, 31]\n",
    "\n",
    "# Adjust for leap years\n",
    "if (year % 4 == 0 and year % 100 != 0) or (year % 400 == 0):\n",
    "    days_in_month[1] = 29  # February has 29 days in a leap year\n",
    "\n",
    "# Determine the day of the week for the 1st day of the month using Zeller's Congruence\n",
    "q = 1\n",
    "m = month\n",
    "K = year % 100\n",
    "J = year // 100\n",
    "\n",
    "if month == 1 or month == 2:\n",
    "    m += 12\n",
    "    K -= 1\n",
    "\n",
    "# Zeller's Congruence formula to find the day of the week\n",
    "h = (q + ((13 * (m + 1)) // 5) + K + (K // 4) + (J // 4) - (2 * J)) % 7\n",
    "\n",
    "# Convert Zeller's output to the appropriate day of the week\n",
    "day_of_week = (h + 5) % 7  # 0 = Sunday, 1 = Monday, ..., 6 = Saturday\n",
    "\n",
    "# Print the calendar header\n",
    "print(f\"    {month_names[month - 1]} {year}\")\n",
    "print(\"Su Mo Tu We Th Fr Sa\")\n",
    "\n",
    "# Print the leading spaces for the first week\n",
    "for _ in range(day_of_week):\n",
    "    print(\"   \", end=\"\")\n",
    "\n",
    "# Print the days of the month\n",
    "for day in range(1, days_in_month[month - 1] + 1):\n",
    "    print(f\"{day:2} \", end=\"\")\n",
    "    if (day_of_week + day) % 7 == 0:\n",
    "        print()  # New line at the end of the week\n",
    "\n",
    "# Final new line for clean output\n",
    "print()"
   ]
  },
  {
   "cell_type": "code",
   "execution_count": 6,
   "id": "01a0c5a0-b8db-4828-993d-98371065a374",
   "metadata": {},
   "outputs": [
    {
     "name": "stdout",
     "output_type": "stream",
     "text": [
      "Your hand: [2, 7] Value: 9\n",
      "Dealer's hand: [ 5 , ? ]\n"
     ]
    },
    {
     "name": "stdin",
     "output_type": "stream",
     "text": [
      "Do you want to 'hit' or 'stand'?  hit\n"
     ]
    },
    {
     "name": "stdout",
     "output_type": "stream",
     "text": [
      "Your hand: [2, 7, 9] Value: 18\n"
     ]
    },
    {
     "name": "stdin",
     "output_type": "stream",
     "text": [
      "Do you want to 'hit' or 'stand'?  stand\n"
     ]
    },
    {
     "name": "stdout",
     "output_type": "stream",
     "text": [
      "Dealer's hand: [5, 10] Value: 15\n",
      "Dealer hits: [5, 10, 11] Value: 16\n",
      "Dealer hits: [5, 10, 11, 10] Value: 26\n",
      "Dealer busts! You win.\n"
     ]
    }
   ],
   "source": [
    "# 39 Build a program that simulates a basic text-based blackjack game against the computer.\n",
    "\n",
    "import random\n",
    "\n",
    "# Initialize deck\n",
    "deck = [2, 3, 4, 5, 6, 7, 8, 9, 10, 10, 10, 10, 11] * 4\n",
    "random.shuffle(deck)\n",
    "\n",
    "# Initial hands\n",
    "player_hand = [deck.pop(), deck.pop()]\n",
    "dealer_hand = [deck.pop(), deck.pop()]\n",
    "\n",
    "# Function to calculate the value of a hand\n",
    "def hand_value(hand):\n",
    "    value = sum(hand)\n",
    "    aces = hand.count(11)\n",
    "    while value > 21 and aces:\n",
    "        value -= 10\n",
    "        aces -= 1\n",
    "    return value\n",
    "\n",
    "# Display initial hands\n",
    "print(\"Your hand:\", player_hand, \"Value:\", hand_value(player_hand))\n",
    "print(\"Dealer's hand: [\", dealer_hand[0], \", ? ]\")\n",
    "\n",
    "# Player's turn\n",
    "while True:\n",
    "    choice = input(\"Do you want to 'hit' or 'stand'? \").lower()\n",
    "    if choice == 'hit':\n",
    "        player_hand.append(deck.pop())\n",
    "        print(\"Your hand:\", player_hand, \"Value:\", hand_value(player_hand))\n",
    "        if hand_value(player_hand) > 21:\n",
    "            print(\"You bust! Dealer wins.\")\n",
    "            break\n",
    "    elif choice == 'stand':\n",
    "        break\n",
    "    else:\n",
    "        print(\"Invalid choice. Please choose 'hit' or 'stand'.\")\n",
    "\n",
    "# Dealer's turn\n",
    "if hand_value(player_hand) <= 21:\n",
    "    print(\"Dealer's hand:\", dealer_hand, \"Value:\", hand_value(dealer_hand))\n",
    "    while hand_value(dealer_hand) < 17:\n",
    "        dealer_hand.append(deck.pop())\n",
    "        print(\"Dealer hits:\", dealer_hand, \"Value:\", hand_value(dealer_hand))\n",
    "    \n",
    "    # Determine the outcome\n",
    "    player_total = hand_value(player_hand)\n",
    "    dealer_total = hand_value(dealer_hand)\n",
    "    \n",
    "    if dealer_total > 21:\n",
    "        print(\"Dealer busts! You win.\")\n",
    "    elif dealer_total > player_total:\n",
    "        print(\"Dealer wins.\")\n",
    "    elif dealer_total < player_total:\n",
    "        print(\"You win.\")\n",
    "    else:\n",
    "        print(\"It's a tie!\")"
   ]
  },
  {
   "cell_type": "code",
   "execution_count": 7,
   "id": "c5460457-49a6-476a-be20-694b418d9400",
   "metadata": {},
   "outputs": [
    {
     "name": "stdin",
     "output_type": "stream",
     "text": [
      "Enter a number to find its prime factors:  5\n"
     ]
    },
    {
     "name": "stdout",
     "output_type": "stream",
     "text": [
      "Prime factors of 5 are: [5]\n"
     ]
    }
   ],
   "source": [
    "# 40 Write a program that generates the prime factors of a given number using trial division.\n",
    "\n",
    "# Input the number to factorize\n",
    "number = int(input(\"Enter a number to find its prime factors: \"))\n",
    "\n",
    "# Initialize variables\n",
    "n = number\n",
    "prime_factors = []\n",
    "\n",
    "# Trial division algorithm\n",
    "divisor = 2\n",
    "\n",
    "while divisor * divisor <= n:\n",
    "    while n % divisor == 0:\n",
    "        prime_factors.append(divisor)\n",
    "        n //= divisor\n",
    "    divisor += 1\n",
    "\n",
    "if n > 1:\n",
    "    prime_factors.append(n)\n",
    "\n",
    "# Print the prime factors\n",
    "print(f\"Prime factors of {number} are: {prime_factors}\")\n"
   ]
  },
  {
   "cell_type": "code",
   "execution_count": null,
   "id": "811038af-f92d-4188-8841-d992a137fdee",
   "metadata": {},
   "outputs": [],
   "source": []
  }
 ],
 "metadata": {
  "kernelspec": {
   "display_name": "Python 3 (ipykernel)",
   "language": "python",
   "name": "python3"
  },
  "language_info": {
   "codemirror_mode": {
    "name": "ipython",
    "version": 3
   },
   "file_extension": ".py",
   "mimetype": "text/x-python",
   "name": "python",
   "nbconvert_exporter": "python",
   "pygments_lexer": "ipython3",
   "version": "3.10.8"
  }
 },
 "nbformat": 4,
 "nbformat_minor": 5
}
